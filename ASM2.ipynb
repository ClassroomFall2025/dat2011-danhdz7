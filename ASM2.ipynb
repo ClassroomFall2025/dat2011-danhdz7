{
 "cells": [
  {
   "cell_type": "code",
   "execution_count": null,
   "id": "c37ffc78",
   "metadata": {},
   "outputs": [
    {
     "name": "stdout",
     "output_type": "stream",
     "text": [
      "Đã nạp lại module ASM2.py\n",
      "\n",
      "MENU\n",
      "1.Nhập & lưu  2.Xuất DS  3.Tìm  4.Xóa\n",
      "5.Sửa  6.Tìm theo lương  7.Sắp xếp tên\n",
      "8.Sắp xếp TN  9.Top5  0.Thoát\n",
      "\n",
      "MENU\n",
      "1.Nhập & lưu  2.Xuất DS  3.Tìm  4.Xóa\n",
      "5.Sửa  6.Tìm theo lương  7.Sắp xếp tên\n",
      "8.Sắp xếp TN  9.Top5  0.Thoát\n",
      "\n",
      "DANH SÁCH NHÂN VIÊN\n",
      "Ma      Loai        HoTen                         Luong     Phu/DS*HH     ThuNhap\n",
      "20302   HanhChinh   Công Danh Trần           30000000.00             - 30000000.00\n",
      "20302   HanhChinh   Bùi Tân                  22000000.00             - 22000000.00\n",
      "\n",
      "MENU\n",
      "1.Nhập & lưu  2.Xuất DS  3.Tìm  4.Xóa\n",
      "5.Sửa  6.Tìm theo lương  7.Sắp xếp tên\n",
      "8.Sắp xếp TN  9.Top5  0.Thoát\n",
      "\n",
      "TOP 5 THU NHẬP\n",
      "Ma      Loai        HoTen                         Luong     Phu/DS*HH     ThuNhap\n",
      "20302   HanhChinh   Công Danh Trần           30000000.00             - 30000000.00\n",
      "20302   HanhChinh   Bùi Tân                  22000000.00             - 22000000.00\n",
      "\n",
      "MENU\n",
      "1.Nhập & lưu  2.Xuất DS  3.Tìm  4.Xóa\n",
      "5.Sửa  6.Tìm theo lương  7.Sắp xếp tên\n",
      "8.Sắp xếp TN  9.Top5  0.Thoát\n"
     ]
    }
   ],
   "source": [
    "import importlib\n",
    "import ASM2 as ql\n",
    "\n",
    "importlib.reload(ql)\n",
    "print(\"Đã nạp lại module ASM2.py\")\n",
    "\n",
    "ql.menu()"
   ]
  }
 ],
 "metadata": {
  "kernelspec": {
   "display_name": "Python 3",
   "language": "python",
   "name": "python3"
  },
  "language_info": {
   "codemirror_mode": {
    "name": "ipython",
    "version": 3
   },
   "file_extension": ".py",
   "mimetype": "text/x-python",
   "name": "python",
   "nbconvert_exporter": "python",
   "pygments_lexer": "ipython3",
   "version": "3.13.7"
  }
 },
 "nbformat": 4,
 "nbformat_minor": 5
}

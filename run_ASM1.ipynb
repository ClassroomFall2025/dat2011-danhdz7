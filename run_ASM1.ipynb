{
 "cells": [
  {
   "cell_type": "markdown",
   "id": "1bcbb319",
   "metadata": {},
   "source": [
    "ASM1"
   ]
  },
  {
   "cell_type": "code",
   "execution_count": 1,
   "id": "963c834f",
   "metadata": {},
   "outputs": [
    {
     "ename": "ImportError",
     "evalue": "cannot import name 'menu' from 'ASM1' (c:\\Users\\Cong Danh\\Desktop\\FPT\\DAT2011_Python\\dat2011-danhdz7\\ASM1.py)",
     "output_type": "error",
     "traceback": [
      "\u001b[31m---------------------------------------------------------------------------\u001b[39m",
      "\u001b[31mImportError\u001b[39m                               Traceback (most recent call last)",
      "\u001b[36mCell\u001b[39m\u001b[36m \u001b[39m\u001b[32mIn[1]\u001b[39m\u001b[32m, line 1\u001b[39m\n\u001b[32m----> \u001b[39m\u001b[32m1\u001b[39m \u001b[38;5;28;01mfrom\u001b[39;00m\u001b[38;5;250m \u001b[39m\u001b[34;01mASM1\u001b[39;00m\u001b[38;5;250m \u001b[39m\u001b[38;5;28;01mimport\u001b[39;00m menu\n\u001b[32m      2\u001b[39m \u001b[38;5;28mprint\u001b[39m(\u001b[33m\"\u001b[39m\u001b[33m=== CHƯƠNG TRÌNH QUẢN LÝ NHÂN VIÊN - GIAI ĐOẠN 1 ===\u001b[39m\u001b[33m\"\u001b[39m)\n\u001b[32m      3\u001b[39m menu()\n",
      "\u001b[31mImportError\u001b[39m: cannot import name 'menu' from 'ASM1' (c:\\Users\\Cong Danh\\Desktop\\FPT\\DAT2011_Python\\dat2011-danhdz7\\ASM1.py)"
     ]
    }
   ],
   "source": [
    "from ASM1 import menu\n",
    "print(\"=== CHƯƠNG TRÌNH QUẢN LÝ NHÂN VIÊN - GIAI ĐOẠN 1 ===\")\n",
    "menu()"
   ]
  }
 ],
 "metadata": {
  "kernelspec": {
   "display_name": "Python 3",
   "language": "python",
   "name": "python3"
  },
  "language_info": {
   "codemirror_mode": {
    "name": "ipython",
    "version": 3
   },
   "file_extension": ".py",
   "mimetype": "text/x-python",
   "name": "python",
   "nbconvert_exporter": "python",
   "pygments_lexer": "ipython3",
   "version": "3.13.7"
  }
 },
 "nbformat": 4,
 "nbformat_minor": 5
}

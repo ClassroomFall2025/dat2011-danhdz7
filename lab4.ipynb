{
 "cells": [
  {
   "cell_type": "markdown",
   "id": "fdeff819",
   "metadata": {},
   "source": [
    "# Sinh Viên thực hiện Lab 4 ở Đây"
   ]
  },
  {
   "cell_type": "markdown",
   "id": "acc5d7dc",
   "metadata": {},
   "source": [
    "## Lab 1 - Bài 1"
   ]
  },
  {
   "cell_type": "code",
   "execution_count": 1,
   "id": "001e0507",
   "metadata": {},
   "outputs": [],
   "source": [
    "# Code lab 4 bài 1 ở đây\n",
    "#Viết một hàm để tính tiền nước sinh hoạt theo phương pháp lũy tiến. Tham số\n",
    "#truyền vào hàm là số nước sử dụng trong tháng.\n",
    "def tinh_tien_nuoc(so_nuoc):\n",
    "    gia_ban_nuoc = (7500, 8800, 12000, 24000)\n",
    "    if so_nuoc <= 10:\n",
    "        tien_nuoc = so_nuoc * gia_ban_nuoc[0]\n",
    "    elif so_nuoc <= 20:\n",
    "        tien_nuoc = 10 * gia_ban_nuoc[0] + (so_nuoc- 10) * gia_ban_nuoc[1]\n",
    "    elif so_nuoc <= 30:\n",
    "        tien_nuoc = 10 * gia_ban_nuoc[0] + 10 * gia_ban_nuoc[1] + (so_nuoc - 20) * gia_ban_nuoc[2]\n",
    "    else:\n",
    "        tien_nuoc = 10 * gia_ban_nuoc[0] + 10 * gia_ban_nuoc[1] + 10 * gia_ban_nuoc[2] + (so_nuoc - 30) * gia_ban_nuoc[3]\n",
    "    return tien_nuoc\n"
   ]
  },
  {
   "cell_type": "markdown",
   "id": "c0835310",
   "metadata": {},
   "source": [
    "## Lab 4 - Bài 2"
   ]
  },
  {
   "cell_type": "code",
   "execution_count": null,
   "id": "fa9cb39f",
   "metadata": {},
   "outputs": [],
   "source": [
    "# Code lab 4  bài 2 ở đây"
   ]
  },
  {
   "cell_type": "markdown",
   "id": "0f2483fe",
   "metadata": {},
   "source": [
    "## Lab 4 - Bài 3"
   ]
  },
  {
   "cell_type": "code",
   "execution_count": 2,
   "id": "7034990b",
   "metadata": {},
   "outputs": [
    {
     "name": "stdout",
     "output_type": "stream",
     "text": [
      "Các số chẵn trong dãy: [2, 4]\n"
     ]
    }
   ],
   "source": [
    "# Code lab 4  bài 3 ở đây\n",
    "# Nhập dãy số nguyên từ bàn phím, cách nhau bởi dấu cách\n",
    "day_so = list(map(int, input(\"Nhập dãy số nguyên (cách nhau bởi dấu cách): \").split()))\n",
    "\n",
    "# Dùng lambda và filter để lọc số chẵn\n",
    "so_chan = list(filter(lambda x: x % 2 == 0, day_so))\n",
    "\n",
    "# Xuất kết quả\n",
    "print(\"Các số chẵn trong dãy:\", so_chan)\n"
   ]
  },
  {
   "cell_type": "markdown",
   "id": "d36ea3d3",
   "metadata": {},
   "source": [
    "## Lab 4 - Bài 4"
   ]
  },
  {
   "cell_type": "code",
   "execution_count": 4,
   "id": "4c707ec1",
   "metadata": {},
   "outputs": [
    {
     "ename": "ModuleNotFoundError",
     "evalue": "No module named 'lab4'",
     "output_type": "error",
     "traceback": [
      "\u001b[31m---------------------------------------------------------------------------\u001b[39m",
      "\u001b[31mModuleNotFoundError\u001b[39m                       Traceback (most recent call last)",
      "\u001b[36mCell\u001b[39m\u001b[36m \u001b[39m\u001b[32mIn[4]\u001b[39m\u001b[32m, line 2\u001b[39m\n\u001b[32m      1\u001b[39m \u001b[38;5;66;03m# code lab 4 bài 4 ở đây\u001b[39;00m\n\u001b[32m----> \u001b[39m\u001b[32m2\u001b[39m \u001b[38;5;28;01mimport\u001b[39;00m\u001b[38;5;250m \u001b[39m\u001b[34;01mlab4\u001b[39;00m\n\u001b[32m      3\u001b[39m \u001b[38;5;66;03m#from lab4 import tinh_tien_nuoc\u001b[39;00m\n\u001b[32m      4\u001b[39m menu = {\n\u001b[32m      5\u001b[39m     \u001b[33m\"\u001b[39m\u001b[33m1\u001b[39m\u001b[33m\"\u001b[39m : \u001b[33m\"\u001b[39m\u001b[33mTính tiền nước sinh hoạt\u001b[39m\u001b[33m\"\u001b[39m,\n\u001b[32m      6\u001b[39m     \u001b[33m\"\u001b[39m\u001b[33m2\u001b[39m\u001b[33m\"\u001b[39m : \u001b[33m\"\u001b[39m\u001b[33mTính nguyên liệu làm bánh\u001b[39m\u001b[33m\"\u001b[39m,\n\u001b[32m      7\u001b[39m     \u001b[33m\"\u001b[39m\u001b[33m3\u001b[39m\u001b[33m\"\u001b[39m : \u001b[33m\"\u001b[39m\u001b[33mThoát\u001b[39m\u001b[33m\"\u001b[39m\n\u001b[32m      8\u001b[39m }\n",
      "\u001b[31mModuleNotFoundError\u001b[39m: No module named 'lab4'"
     ]
    }
   ],
   "source": [
    "# code lab 4 bài 4 ở đây\n",
    "import lab4\n",
    "#from lab4 import tinh_tien_nuoc\n",
    "menu = {\n",
    "    \"1\" : \"Tính tiền nước sinh hoạt\",\n",
    "    \"2\" : \"Tính nguyên liệu làm bánh\",\n",
    "    \"3\" : \"Thoát\"\n",
    "}\n",
    "while True:\n",
    "    print(\"==\"*10 + \"MENU\" + \"===\"*10)\n",
    "    for k,v in menu.items():\n",
    "        print(f\"{k}: {v}\")\n",
    "    print(\"===\"*10 + \"====\" + \"===\"*10)\n",
    "    lua_chon = input(\"Nhập chức năng chương trình !\")\n",
    "    if lua_chon == \"3\":\n",
    "        print(\"Thoát chương trình\")\n",
    "        break\n",
    "    elif lua_chon == \"1\":\n",
    "        print(\"tính tiền nước\")\n",
    "        so_nuoc = int(input(\"nhập số nước\"))\n",
    "        print(f\"tiền nước phải trả cho số nước {so_nuoc} là { tinh_tien_nuoc(so_nuoc)}\")\n",
    "    elif lua_chon == \"2\":\n",
    "        print(\"tính nguyên liệu\")\n",
    "    else:\n",
    "        print(\"vui lòng chọn đúng chức năng hoặc chọn 3 để thoát chương trình !!!\")\n",
    "\n"
   ]
  },
  {
   "cell_type": "markdown",
   "id": "e2b41d4a",
   "metadata": {},
   "source": [
    "## Lab 4 - Bài 5: bài tập làm thêm"
   ]
  },
  {
   "cell_type": "code",
   "execution_count": null,
   "id": "0e0172f7",
   "metadata": {},
   "outputs": [],
   "source": [
    "# code lab 4  bài làm thêm ở đây "
   ]
  }
 ],
 "metadata": {
  "kernelspec": {
   "display_name": "Python 3",
   "language": "python",
   "name": "python3"
  },
  "language_info": {
   "codemirror_mode": {
    "name": "ipython",
    "version": 3
   },
   "file_extension": ".py",
   "mimetype": "text/x-python",
   "name": "python",
   "nbconvert_exporter": "python",
   "pygments_lexer": "ipython3",
   "version": "3.13.7"
  }
 },
 "nbformat": 4,
 "nbformat_minor": 5
}

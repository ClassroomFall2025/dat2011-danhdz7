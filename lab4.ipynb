{
 "cells": [
  {
   "cell_type": "markdown",
   "id": "fdeff819",
   "metadata": {},
   "source": [
    "# Sinh Viên thực hiện Lab 4 ở Đây"
   ]
  },
  {
   "cell_type": "markdown",
   "id": "acc5d7dc",
   "metadata": {},
   "source": [
    "## Lab 1 - Bài 1"
   ]
  },
  {
   "cell_type": "code",
   "execution_count": 1,
   "id": "001e0507",
   "metadata": {},
   "outputs": [],
   "source": [
    "# Code lab 4 bài 1 ở đây\n",
    "#Viết một hàm để tính tiền nước sinh hoạt theo phương pháp lũy tiến. Tham số\n",
    "#truyền vào hàm là số nước sử dụng trong tháng.\n",
    "def tinh_tien_nuoc(so_nuoc):\n",
    "    gia_ban_nuoc = (7500, 8800, 12000, 24000)\n",
    "    if so_nuoc <= 10:\n",
    "        tien_nuoc = so_nuoc * gia_ban_nuoc[0]\n",
    "    elif so_nuoc <= 20:\n",
    "        tien_nuoc = 10 * gia_ban_nuoc[0] + (so_nuoc- 10) * gia_ban_nuoc[1]\n",
    "    elif so_nuoc <= 30:\n",
    "        tien_nuoc = 10 * gia_ban_nuoc[0] + 10 * gia_ban_nuoc[1] + (so_nuoc - 20) * gia_ban_nuoc[2]\n",
    "    else:\n",
    "        tien_nuoc = 10 * gia_ban_nuoc[0] + 10 * gia_ban_nuoc[1] + 10 * gia_ban_nuoc[2] + (so_nuoc - 30) * gia_ban_nuoc[3]\n",
    "    return tien_nuoc\n"
   ]
  },
  {
   "cell_type": "markdown",
   "id": "c0835310",
   "metadata": {},
   "source": [
    "## Lab 4 - Bài 2"
   ]
  },
  {
   "cell_type": "code",
   "execution_count": null,
   "id": "fa9cb39f",
   "metadata": {},
   "outputs": [],
   "source": [
    "# Code lab 4  bài 2 ở đây"
   ]
  },
  {
   "cell_type": "markdown",
   "id": "0f2483fe",
   "metadata": {},
   "source": [
    "## Lab 4 - Bài 3"
   ]
  },
  {
   "cell_type": "code",
   "execution_count": 2,
   "id": "7034990b",
   "metadata": {},
   "outputs": [
    {
     "name": "stdout",
     "output_type": "stream",
     "text": [
      "Các số chẵn trong dãy: [2, 4]\n"
     ]
    }
   ],
   "source": [
    "# Code lab 4  bài 3 ở đây\n",
    "# Nhập dãy số nguyên từ bàn phím, cách nhau bởi dấu cách\n",
    "day_so = list(map(int, input(\"Nhập dãy số nguyên (cách nhau bởi dấu cách): \").split()))\n",
    "\n",
    "# Dùng lambda và filter để lọc số chẵn\n",
    "so_chan = list(filter(lambda x: x % 2 == 0, day_so))\n",
    "\n",
    "# Xuất kết quả\n",
    "print(\"Các số chẵn trong dãy:\", so_chan)\n"
   ]
  },
  {
   "cell_type": "markdown",
   "id": "d36ea3d3",
   "metadata": {},
   "source": [
    "## Lab 4 - Bài 4"
   ]
  },
  {
   "cell_type": "code",
   "execution_count": null,
   "id": "4c707ec1",
   "metadata": {},
   "outputs": [],
   "source": [
    "# code lab 4 bài 4 ở đây\n",
    "# import lab4\n",
    "from lab4 import tinh_tien_nuoc, tinh_NL\n",
    "menu = {\n",
    "    \"1\" : \"Tính tiền nước sinh hoạt\",\n",
    "    \"2\" : \"Tính nguyên liệu làm bánh\",\n",
    "    \"3\" : \"Thoát\"\n",
    "}\n",
    "while True:\n",
    "    print(\"==\"*10 + \"MENU\" + \"===\"*10)\n",
    "    for k,v in menu.items():\n",
    "        print(f\"{k}: {v}\")\n",
    "    print(\"===\"*10 + \"====\" + \"===\"*10)\n",
    "    lua_chon = input(\"Nhập chức năng chương trình !\")\n",
    "    if lua_chon == \"3\":\n",
    "        print(\"Thoát chương trình\")\n",
    "        break\n",
    "    elif lua_chon == \"1\":\n",
    "        print(\"tính tiền nước\")\n",
    "        so_nuoc = int(input(\"nhập số nước\"))\n",
    "        print(f\"tiền nước phải trả cho số nước {so_nuoc} là { tinh_tien_nuoc(so_nuoc)}\")\n",
    "    elif lua_chon == \"2\":\n",
    "        print(\"tính nguyên liệu\")\n",
    "    else:\n",
    "        print(\"vui lòng chọn đúng chức năng hoặc chọn 3 để thoát chương trình !!!\")\n",
    "\n"
   ]
  },
  {
   "cell_type": "markdown",
   "id": "e2b41d4a",
   "metadata": {},
   "source": [
    "## Lab 4 - Bài 5: bài tập làm thêm"
   ]
  },
  {
   "cell_type": "code",
   "execution_count": 1,
   "id": "0e0172f7",
   "metadata": {},
   "outputs": [
    {
     "name": "stdout",
     "output_type": "stream",
     "text": [
      "Máy tính đơn giản\n",
      "\n",
      "1. Cộng (+)\n",
      "2. Trừ (-)\n",
      "3. Nhân (*)\n",
      "4. Chia (/)\n",
      "0. Thoát\n",
      "Kết quả: 4.0 + 5.0 = 9.0\n",
      "\n",
      "1. Cộng (+)\n",
      "2. Trừ (-)\n",
      "3. Nhân (*)\n",
      "4. Chia (/)\n",
      "0. Thoát\n",
      "Cook\n",
      "==============================MENU==============================\n",
      "1. Chạy máy tính mini\n",
      "0. Thoát\n",
      "================================================================\n",
      "Thoát chương trình.\n"
     ]
    }
   ],
   "source": [
    "# code lab 4  bài làm thêm ở đây \n",
    "from lab3 import run_com\n",
    "run_com()\n",
    "menu = {\n",
    "    1: \"Chạy máy tính mini\",\n",
    "    0: \"Thoát\"\n",
    "}\n",
    "while True:\n",
    "    print(\"===\"*10 + \"MENU\" + \"===\"*10)\n",
    "    for key, value in menu.items():\n",
    "        print(f\"{key}. {value}\")\n",
    "    print(\"===\"*10 + \"====\" + \"===\"*10)\n",
    "    try:\n",
    "            lua_chon = int(input(\"Chọn một lựa chọn chương trình: \"))\n",
    "    except ValueError:\n",
    "            print(\"Vui lòng nhập một số nguyên hợp lệ.\")\n",
    "            continue\n",
    "    match lua_chon:\n",
    "        case 1: lab3.run_com()\n",
    "        case 0:\n",
    "                print(\"Thoát chương trình.\")\n",
    "                break\n",
    "        case _:\n",
    "                print(\"Chọn sai, vui lòng nhập lại.\")\n"
   ]
  },
  {
   "cell_type": "code",
   "execution_count": null,
   "id": "94e53d60",
   "metadata": {},
   "outputs": [],
   "source": [
    "#\n",
    "from lab3 import run_com \n",
    "\n",
    "menu = {\n",
    "    \"1\": \"Chạy máy tính mini\",\n",
    "    \"2\": \"Chức năng khác (đang cập nhật)\",\n",
    "    \"3\": \"Thoát\"\n",
    "}\n",
    "\n",
    "while True:\n",
    "    print(\"==\" * 10 + \" MENU \" + \"==\" * 10)\n",
    "    for k, v in menu.items():\n",
    "        print(f\"{k}. {v}\")\n",
    "    print(\"=\" * 30)\n",
    "\n",
    "    lua_chon = input(\"Nhập chức năng chương trình: \")\n",
    "\n",
    "    if lua_chon == \"1\":\n",
    "        print(\"=== MỞ MÁY TÍNH MINI ===\")\n",
    "        run_com()\n",
    "\n",
    "    elif lua_chon == \"2\":\n",
    "        print(\"Chức năng này đang phát triển...\")\n",
    "\n",
    "    elif lua_chon == \"3\":\n",
    "        print(\"Thoát chương trình.\")\n",
    "        break\n",
    "\n",
    "    else:\n",
    "        print(\"Vui lòng chọn đúng chức năng !!!\")\n"
   ]
  }
 ],
 "metadata": {
  "kernelspec": {
   "display_name": "Python 3",
   "language": "python",
   "name": "python3"
  },
  "language_info": {
   "codemirror_mode": {
    "name": "ipython",
    "version": 3
   },
   "file_extension": ".py",
   "mimetype": "text/x-python",
   "name": "python",
   "nbconvert_exporter": "python",
   "pygments_lexer": "ipython3",
   "version": "3.13.7"
  }
 },
 "nbformat": 4,
 "nbformat_minor": 5
}

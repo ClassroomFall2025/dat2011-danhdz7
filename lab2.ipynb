{
 "cells": [
  {
   "cell_type": "markdown",
   "id": "fdeff819",
   "metadata": {},
   "source": [
    "# Sinh Viên thực hiện Lab 2 ở Đây"
   ]
  },
  {
   "cell_type": "markdown",
   "id": "acc5d7dc",
   "metadata": {},
   "source": [
    "## Lab 2 - Bài 1"
   ]
  },
  {
   "cell_type": "code",
   "execution_count": 35,
   "id": "001e0507",
   "metadata": {},
   "outputs": [
    {
     "name": "stdout",
     "output_type": "stream",
     "text": [
      "Kiếp con người mỏng manh như là gió\n",
      "Sống trên đời có được mấy lần vui\n",
      "Sao phải đau mà không thể mỉm cười\n",
      "Gắng buông nỗi ngậm ngùi nơi quá khứ\n",
      "\n",
      "Nếu có thể sao ta không làm thử\n",
      "Để tâm hồn khắc hai chữ bình an\n",
      "Cho đôi chân bước thanh thản nhẹ nhàng\n",
      "Dù hướng đời có muôn ngàn đá sỏi\n",
      "\n",
      "Có từ con người trong bài thơ:\n",
      "True\n",
      "Lấy từ con người trong câu đầu tiên: con người\n",
      "Kết quả:  thanh\n",
      "Chữ hoa:  THANH\n"
     ]
    }
   ],
   "source": [
    "# Code lab 2 bài 1 ở đây\n",
    "Bai_tho = '''Kiếp con người mỏng manh như là gió\n",
    "Sống trên đời có được mấy lần vui\n",
    "Sao phải đau mà không thể mỉm cười\n",
    "Gắng buông nỗi ngậm ngùi nơi quá khứ\n",
    "\n",
    "Nếu có thể sao ta không làm thử\n",
    "Để tâm hồn khắc hai chữ bình an\n",
    "Cho đôi chân bước thanh thản nhẹ nhàng\n",
    "Dù hướng đời có muôn ngàn đá sỏi\n",
    "'''\n",
    "print(Bai_tho)\n",
    "#kiểm tra từ con người có trong chuỗi hay không? Xuất kết quả ra màn hình\n",
    "print(\"Có từ con người trong bài thơ:\")\n",
    "print(\"con người\" in Bai_tho)\n",
    "\n",
    "#Sử dụng cú pháp trích ra 1 phần chuỗi để lấy từ \"con người\" trong câu đầu tiên.\n",
    "\n",
    "\n",
    "timkiem = Bai_tho.find(\"con người\")\n",
    "kt = len(\"con người\")\n",
    "print(\"Lấy từ con người trong câu đầu tiên:\", Bai_tho[timkiem:timkiem+kt])\n",
    "\n",
    "#2\n",
    "Chuoi_tim_kiem = input(\"Nhập từ cần tìm: \")\n",
    "chieu_dai_chuoi = len(Chuoi_tim_kiem)\n",
    "index_dau_tien = Bai_tho.find(Chuoi_tim_kiem)\n",
    "index_thu_hai = index_dau_tien + chieu_dai_chuoi\n",
    "tu_khoa = Bai_tho[index_dau_tien:index_thu_hai]\n",
    "print(\"Kết quả: \",tu_khoa)\n",
    "\n",
    "# Chuyển từ \"ngẫu nhiên\" thành chữ hoa rồi xuất ra màn hình\n",
    "print(\"Chữ hoa: \",tu_khoa.upper())\n",
    "\n",
    "\n"
   ]
  },
  {
   "cell_type": "markdown",
   "id": "c0835310",
   "metadata": {},
   "source": [
    "## Lab 2 - Bài 2"
   ]
  },
  {
   "cell_type": "code",
   "execution_count": 32,
   "id": "fa9cb39f",
   "metadata": {},
   "outputs": [
    {
     "name": "stdout",
     "output_type": "stream",
     "text": [
      "... Kiếp con người mỏng manh như là gió\n",
      "Sống trên đời có được mấy lần vui\n",
      "Sao phải đau mà không thể mỉm cười\n",
      "Gắng buông nỗi ngậm ngùi nơi quá khứ\n",
      "\n",
      "Nếu có thể sao ta không làm thử\n",
      "Để tâm hồn khắc hai chữ bình an\n",
      "Cho đôi chân bước thanh thản nhẹ nhàng\n",
      "Dù hướng đời có muôn ngàn đá sỏi\n",
      " ...\n"
     ]
    }
   ],
   "source": [
    "# Code lab 2  bài 2 ở đây\n",
    "#Thay thế từ \"bình an\" thành \"hạnh phúc\" trong chuỗi Bai_tho\n",
    "tu_moi = Bai_tho.replace(\"bình an\",\"hạnh phúc\",1)\n",
    "#Ghép thêm cụm ký tự \"... vào đầu bài thơ và ...\" vào cuối bài thơ\n",
    "Bai_tho_moi = '... ' + Bai_tho + ' ...'\n",
    "print(Bai_tho_moi)\n"
   ]
  },
  {
   "cell_type": "markdown",
   "id": "0f2483fe",
   "metadata": {},
   "source": [
    "## Lab 2 - Bài 3"
   ]
  },
  {
   "cell_type": "code",
   "execution_count": null,
   "id": "7034990b",
   "metadata": {},
   "outputs": [
    {
     "name": "stdout",
     "output_type": "stream",
     "text": [
      "Nghiệm của phương trình là:  -0.5\n"
     ]
    }
   ],
   "source": [
    "# Code lab 2  bài 3 ở đây\n",
    "#Viết chương trình cho phép giải phương trình bậc nhất trong đó các hệ số a và b\n",
    "#nhập từ bàn phím.\n",
    "# a = 0\n",
    "# b = 0 ==> PT có vô số nghiệm\n",
    "# b != 0 ==> PT vô nghiệm\n",
    "# a != 0 ==> x = -b/a\n",
    "\n",
    "a = float(input(\"Nhập hệ số a: \"))\n",
    "b = float(input(\"Nhập hệ số b: \"))\n",
    "if a == 0:\n",
    "    if b == 0:\n",
    "        print(\"Phương trình có vô số nghiệm.\")\n",
    "    else:\n",
    "        print(\"Phương trình vô nghiệm.\")\n",
    "else:\n",
    "    x = -b / a\n",
    "    print(\"Nghiệm của phương trình là: \", x)\n"
   ]
  },
  {
   "cell_type": "markdown",
   "id": "d36ea3d3",
   "metadata": {},
   "source": [
    "## Lab 2 - Bài 4"
   ]
  },
  {
   "cell_type": "code",
   "execution_count": 50,
   "id": "4c707ec1",
   "metadata": {},
   "outputs": [
    {
     "name": "stdout",
     "output_type": "stream",
     "text": [
      "đen ta là : 8.0\n",
      "PT có  2 nghiệm phân biệt : -0.5857864376269049\n",
      "PT có  2 nghiệm phân biệt : -3.414213562373095\n"
     ]
    }
   ],
   "source": [
    "# code lab 2 bài 4 ở đây\n",
    "# Viết chương trình cho phép giải phương trình bậc hai trong đó các hệ số a, b và c nhập từ bàn phím.\n",
    "import math\n",
    "a = float(input(\"Nhập hệ số a: \"))\n",
    "b = float(input(\"Nhập hệ số b: \"))\n",
    "c = float(input(\"Nhập hệ số c: \"))\n",
    "delta = b**2 - 4*a*c\n",
    "print(\"đen ta là :\", delta)\n",
    "if delta < 0:\n",
    "    print(\"Pt vô nghiệm\")\n",
    "elif delta == 0:\n",
    "    x = -b/(2*a)\n",
    "    print(\"PT có nghiệm kép = :\", x)\n",
    "else:\n",
    "    x1 = (-b + math.sqrt(delta)) / (2*a)\n",
    "    x2 = (-b - math.sqrt(delta)) / (2*a)\n",
    "    print(\"PT có  2 nghiệm phân biệt :\", x1)\n",
    "    print(\"PT có  2 nghiệm phân biệt :\", x2)\n",
    "\n",
    "\n",
    "\n",
    "\n"
   ]
  },
  {
   "cell_type": "markdown",
   "id": "e2b41d4a",
   "metadata": {},
   "source": [
    "## Lab 2 - Bài 5: bài tập làm thêm"
   ]
  },
  {
   "cell_type": "code",
   "execution_count": 1,
   "id": "0e0172f7",
   "metadata": {},
   "outputs": [
    {
     "name": "stdout",
     "output_type": "stream",
     "text": [
      "số lớn nhất trong 3 số là : 4.0\n"
     ]
    }
   ],
   "source": [
    "# code lab 2  bài làm thêm ở đây \n",
    "# 3 số lớn nhất\n",
    "so1 = float(input(\"Nhập số thứ 1:\"))\n",
    "so2 = float(input(\"Nhập số thứ 2:\"))\n",
    "so3 = float(input(\"Nhập số thứ 3:\"))\n",
    "# max = so1 if so1 > so2 and so1 > so3 else so2 if so2 > so3 else so3\n",
    "max = so1 if so1 > so2 else so2\n",
    "max = max if max > so3 else so3\n",
    "print(\"số lớn nhất trong 3 số là :\", max)\n"
   ]
  }
 ],
 "metadata": {
  "kernelspec": {
   "display_name": "Python 3",
   "language": "python",
   "name": "python3"
  },
  "language_info": {
   "codemirror_mode": {
    "name": "ipython",
    "version": 3
   },
   "file_extension": ".py",
   "mimetype": "text/x-python",
   "name": "python",
   "nbconvert_exporter": "python",
   "pygments_lexer": "ipython3",
   "version": "3.13.7"
  }
 },
 "nbformat": 4,
 "nbformat_minor": 5
}

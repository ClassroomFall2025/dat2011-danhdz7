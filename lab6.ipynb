{
 "cells": [
  {
   "cell_type": "markdown",
   "id": "fdeff819",
   "metadata": {},
   "source": [
    "# Sinh Viên thực hiện Lab 6 ở Đây"
   ]
  },
  {
   "cell_type": "markdown",
   "id": "acc5d7dc",
   "metadata": {},
   "source": [
    "## Lab 6 - Bài 1"
   ]
  },
  {
   "cell_type": "code",
   "execution_count": null,
   "id": "001e0507",
   "metadata": {},
   "outputs": [],
   "source": [
    "# Code lab 6 bài 1 ở đây\n",
    "from hinh import *\n",
    "dai1 = float(input(\"Nhập chiều dài hcn1: \"))\n",
    "rong1 = float(input(\"nhập chiều rộng hcn1: \"))\n",
    "\n",
    "dai2 = float(input(\"Nhập chiều dài hcn2: \"))\n",
    "rong2 = float(input(\"nhập chiều rộng hcn2: \"))\n",
    "\n",
    "canh_vuong = float(input(\"Nhập cạnh Hình Vuông: \"))\n",
    "\n",
    "cn1 = ChuNhat(rong1, dai1) \n",
    "cn2 = ChuNhat(rong2, dai2)\n",
    "vu = HinhVuong(canh_vuong)\n",
    "print(\"\\n\\n===================================\")\n",
    "print(\"KẾT QUẢ XUẤT THÔNG TIN CÁC HÌNH\")\n",
    "print(\"===================================\")\n",
    "print(\"\\n* Thông tin Hình Chữ Nhật 1:\")\n",
    "cn1.xuat_tt() \n",
    "print(\"\\n* Thông tin Hình Chữ Nhật 2:\")\n",
    "cn2.xuat_tt()\n",
    "print(\"\\n* Thông tin Hình Vuông:\")\n",
    "vu.xuat_tt()\n"
   ]
  },
  {
   "cell_type": "markdown",
   "id": "c0835310",
   "metadata": {},
   "source": [
    "## Lab 6 - Bài 2"
   ]
  },
  {
   "cell_type": "code",
   "execution_count": null,
   "id": "fa9cb39f",
   "metadata": {},
   "outputs": [],
   "source": [
    "\n",
    "\n",
    "from quanlysinhvien import *\n",
    "\n",
    "ql = QuanLySinhVien()\n",
    "\n",
    "while True:\n",
    "    print(\"\"\"\n",
    "========== MENU ==========\n",
    "1. Nhập danh sách sinh viên\n",
    "2. Xuất danh sách sinh viên\n",
    "3. Xuất danh sách sinh viên giỏi\n",
    "4. Sắp xếp danh sách theo điểm\n",
    "5. Kết thúc\n",
    "==========================\n",
    "\"\"\")\n",
    "\n",
    "    chon = input(\"Chọn chức năng (1-5): \")\n",
    "\n",
    "    if chon == \"1\":\n",
    "        ql.nhap_dssv()\n",
    "    elif chon == \"2\":\n",
    "        ql.xuat_dssv()\n",
    "    elif chon == \"3\":\n",
    "        ql.xuat_dssv_gioi()\n",
    "    elif chon == \"4\":\n",
    "        ql.sap_xep_dssv()\n",
    "    elif chon == \"5\":\n",
    "        print(\"Kết thúc chương trình!\")\n",
    "        break\n",
    "    else:\n",
    "        print(\"Lựa chọn không hợp lệ, vui lòng nhập lại!\")\n"
   ]
  },
  {
   "cell_type": "markdown",
   "id": "0f2483fe",
   "metadata": {},
   "source": [
    "## Lab 6 - Bài 3"
   ]
  },
  {
   "cell_type": "code",
   "execution_count": null,
   "id": "7034990b",
   "metadata": {},
   "outputs": [],
   "source": [
    "# Code lab 6 bài 3 ở đây\n",
    "from quanlysinhvien import *\n",
    "\n",
    "ql = QuanLySinhVien()\n",
    "\n",
    "while True:\n",
    "    print(\"\"\"\n",
    "=========== MENU ===========\n",
    "1. Nhập danh sách sinh viên\n",
    "2. Xuất danh sách sinh viên\n",
    "3. Xuất danh sách sinh viên giỏi\n",
    "4. Sắp xếp danh sách theo điểm\n",
    "5. Kết thúc\n",
    "============================\n",
    "\"\"\")\n",
    "    chon = input(\"Chọn chức năng (1-5): \")\n",
    "\n",
    "    if chon == \"1\":\n",
    "        ql.nhap_dssv()\n",
    "    elif chon == \"2\":\n",
    "        ql.xuat_dssv()\n",
    "    elif chon == \"3\":\n",
    "        ql.xuat_dssv_gioi()\n",
    "    elif chon == \"4\":\n",
    "        ql.sap_xep_dssv()\n",
    "    elif chon == \"5\":\n",
    "        print(\"Kết thúc chương trình!\")\n",
    "        break\n",
    "    else:\n",
    "        print(\"Lựa chọn không hợp lệ, vui lòng nhập lại!\")\n"
   ]
  },
  {
   "cell_type": "markdown",
   "id": "d36ea3d3",
   "metadata": {},
   "source": [
    "## Lab 6 - Bài 4"
   ]
  },
  {
   "cell_type": "code",
   "execution_count": null,
   "id": "4c707ec1",
   "metadata": {},
   "outputs": [],
   "source": [
    "# code lab 6 bài 4 ở đây\n",
    "from quanlysinhvien import *\n",
    "\n",
    "ql = QuanLySinhVien()\n",
    "\n",
    "while True:\n",
    "    print(\"\"\"\n",
    "========== MENU ==========\n",
    "1. Nhập danh sách sinh viên\n",
    "2. Xuất danh sách sinh viên\n",
    "3. Xuất danh sách sinh viên giỏi\n",
    "4. Sắp xếp danh sách theo điểm\n",
    "5. Kết thúc\n",
    "==========================\n",
    "\"\"\")\n",
    "\n",
    "    chon = input(\"Chọn chức năng (1-5): \")\n",
    "\n",
    "    if chon == \"1\":\n",
    "        ql.nhap_dssv()\n",
    "    elif chon == \"2\":\n",
    "        ql.xuat_dssv()\n",
    "    elif chon == \"3\":\n",
    "        ql.xuat_dssv_gioi()\n",
    "    elif chon == \"4\":\n",
    "        ql.sap_xep_dssv()\n",
    "    elif chon == \"5\":\n",
    "        print(\"Kết thúc chương trình!\")\n",
    "        break\n",
    "    else:\n",
    "        print(\"Lựa chọn không hợp lệ, vui lòng nhập lại!\")"
   ]
  },
  {
   "cell_type": "markdown",
   "id": "e2b41d4a",
   "metadata": {},
   "source": [
    "## Lab 6 - Bài 5: bài tập làm thêm"
   ]
  },
  {
   "cell_type": "code",
   "execution_count": null,
   "id": "0e0172f7",
   "metadata": {},
   "outputs": [],
   "source": [
    "# code lab 6  bài làm thêm ở đây "
   ]
  }
 ],
 "metadata": {
  "kernelspec": {
   "display_name": "Python 3",
   "language": "python",
   "name": "python3"
  },
  "language_info": {
   "codemirror_mode": {
    "name": "ipython",
    "version": 3
   },
   "file_extension": ".py",
   "mimetype": "text/x-python",
   "name": "python",
   "nbconvert_exporter": "python",
   "pygments_lexer": "ipython3",
   "version": "3.13.7"
  }
 },
 "nbformat": 4,
 "nbformat_minor": 5
}

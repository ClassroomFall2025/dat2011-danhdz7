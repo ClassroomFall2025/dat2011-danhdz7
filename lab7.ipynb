{
 "cells": [
  {
   "cell_type": "markdown",
   "id": "fdeff819",
   "metadata": {},
   "source": [
    "# Sinh Viên thực hiện Lab 7 ở Đây"
   ]
  },
  {
   "cell_type": "markdown",
   "id": "acc5d7dc",
   "metadata": {},
   "source": [
    "## Lab 7 - Bài 1"
   ]
  },
  {
   "cell_type": "code",
   "execution_count": 2,
   "id": "001e0507",
   "metadata": {},
   "outputs": [
    {
     "name": "stdout",
     "output_type": "stream",
     "text": [
      "Tự nguyện\n",
      "Trương Quốc Khánh\n",
      "Nếu là chim, tôi sẽ là loài bồ câu trắng\n",
      "Nếu là hoa, tôi sẽ là một đóa hướng dương\n",
      "Nếu là mây, tôi sẽ là một vầng mây ấm\n",
      "Là người, tôi sẽ chết cho quê hương.\n",
      "\n",
      "Là chim, tôi sẽ cất cao đôi cánh mềm\n",
      "Từ nam ra ngoài bắc báo tin nối liền\n",
      "Là hoa, tôi nở tình yêu ban sớm\n",
      "Cùng muôn trái tim ngất ngây hoà bình.\n",
      "\n",
      "Là mây, theo làn gió tung bay khắp trời\n",
      "Nghìn xưa oai hùng đó tôi xin tiếp lời\n",
      "Là người, xin một lần khi nằm xuống\n",
      "Nhìn anh em đứng lên phất cao ngọn cờ.\n",
      "Tự nguyện\n",
      "Tự nguyện\n"
     ]
    }
   ],
   "source": [
    "# Code lab 7 bài 1 ở đây\n",
    "\n",
    "file_path = r\"C:\\Users\\Cong Danh\\Desktop\\FPT\\DAT2011_Python\\Bài Lab-20250916T025711Z-1-001\\Bài Lab\\DAT2011 - Lab 7 - Resource.txt\"\n",
    "try:\n",
    "    with open(file_path, \"r\", encoding=\"utf-8\") as file:\n",
    "        # Đọc toàn bộ nội dung của file và xuất ra màn hình\n",
    "        content = file.read()\n",
    "        print(content)\n",
    "\n",
    "        # Đọc và xuất ra màn hình tên bài thơ (9 ký tự đầu tiên)\n",
    "        print(content[:9])\n",
    "\n",
    "        # Đọc và xuất ra màn hình tên tác giả (dòng thứ hai)\n",
    "        file.seek(0)  # Đặt con trỏ về đầu file\n",
    "        author = file.readline().strip()\n",
    "        print(author)\n",
    "except FileNotFoundError:\n",
    "    print(\"File không tồn tại.\")"
   ]
  },
  {
   "cell_type": "markdown",
   "id": "c0835310",
   "metadata": {},
   "source": [
    "## Lab 7 - Bài 2"
   ]
  },
  {
   "cell_type": "code",
   "execution_count": 4,
   "id": "fa9cb39f",
   "metadata": {},
   "outputs": [
    {
     "name": "stdout",
     "output_type": "stream",
     "text": [
      "Đã ghi nội dung vào file Lab7-Exercise2.txt thành công.\n"
     ]
    }
   ],
   "source": [
    "# Code lab 7  bài 2 ở đây\n",
    "filename = \"Lab7-Exercise2.txt\"\n",
    "import os\n",
    "\n",
    "file_path = r\"C:\\Users\\Cong Danh\\Desktop\\FPT\\DAT2011_Python\\Bài Lab-20250916T025711Z-1-001\\Bài Lab\\Lab7-Exercise2.txt\"\n",
    "with open(file_path, \"w\", encoding=\"utf-8\") as file:\n",
    "    file.write(\"Nếu một mai tôi có bay lên trời\\n\")\n",
    "    file.write(\"Thì người ơi tôi đã sống rất thảnh thơi\\n\")\n",
    "    file.write(\"Nếu một mai tôi có đi qua đời\\n\")\n",
    "    file.write(\"Thì người ơi tôi đã sống rất tuyệt vời\\n\")\n",
    "print(f\"Đã ghi nội dung vào file {filename} thành công.\")"
   ]
  },
  {
   "cell_type": "markdown",
   "id": "0f2483fe",
   "metadata": {},
   "source": [
    "## Lab 7 - Bài 3"
   ]
  },
  {
   "cell_type": "code",
   "execution_count": null,
   "id": "7034990b",
   "metadata": {},
   "outputs": [],
   "source": [
    "# Code lab 7  bài 3 ở đây\n",
    "import os\n",
    "\n",
    "# Nhập tên file CSV\n",
    "filename = input(\"Nhập tên file .csv: \")\n",
    "\n",
    "# Kiểm tra file có tồn tại không\n",
    "file_exists = os.path.exists(filename)\n",
    "\n",
    "# Mở file: nếu chưa có thì tạo mới ('w'), nếu có thì ghi thêm ('a')\n",
    "mode = \"a\" if file_exists else \"w\"\n",
    "\n",
    "with open(filename, mode, encoding=\"utf-8\") as f:\n",
    "    # Nếu file chưa tồn tại -> ghi tiêu đề (header)\n",
    "    if not file_exists:\n",
    "        f.write(\"Tiêu đề,Tác giả,Năm sáng tác\\n\")\n",
    "    # Ghi từng nhà thơ vào file\n",
    "    for i in range(5):\n",
    "        print(f\"\\n--- Nhà thơ thứ {i+1} ---\")\n",
    "        tieu_de = input(\"Tiêu đề: \")\n",
    "        tac_gia = input(\"Tác giả: \")\n",
    "        nam_st = input(\"Năm sáng tác: \")\n",
    "\n",
    "        # Ghi một dòng CSV bằng f-string\n",
    "        line = f\"{tieu_de},{tac_gia},{nam_st}\\n\"\n",
    "        f.write(line)\n",
    "\n",
    "print(f\"\\n Đã ghi {i+1} nhà thơ vào file '{filename}' thành công!\")"
   ]
  },
  {
   "cell_type": "markdown",
   "id": "d36ea3d3",
   "metadata": {},
   "source": [
    "## Lab 7 - Bài 4"
   ]
  },
  {
   "cell_type": "code",
   "execution_count": 5,
   "id": "4c707ec1",
   "metadata": {},
   "outputs": [],
   "source": [
    "# code lab 7 bài 4 ở đây\n",
    "file_path = r\"C:\\Users\\Cong Danh\\Desktop\\FPT\\DAT2011_Python\\Bài Lab-20250916T025711Z-1-001\\Bài Lab\\DAT2011 - Lab 7 - Resource.txt\"\n",
    "with open(file_path, \"r\", encoding=\"utf-8\") as f:\n",
    "    lines = [line.strip() for line in f.readlines()]\n",
    "name = lines[0]\n",
    "author = lines[1]\n",
    "\n",
    "content = \"\\n\".join(lines[2:]).strip()\n",
    "sections = content.split(\"\\n\\n\") \n",
    "with open(\"output.xml\", \"w\", encoding=\"utf-8\") as f:\n",
    "    f.write(\"<songs>\\n\")\n",
    "    f.write(f\"  <name>{name}</name>\\n\")\n",
    "    f.write(f\"  <author>{author}</author>\\n\")\n",
    "    for sec in sections:\n",
    "        f.write(f\"  <section>{sec.strip()}</section>\\n\")\n",
    "    f.write(\"</songs>\")\n"
   ]
  },
  {
   "cell_type": "markdown",
   "id": "e2b41d4a",
   "metadata": {},
   "source": [
    "## Lab 7 - Bài 5: bài tập làm thêm"
   ]
  },
  {
   "cell_type": "code",
   "execution_count": null,
   "id": "0e0172f7",
   "metadata": {},
   "outputs": [
    {
     "name": "stdout",
     "output_type": "stream",
     "text": [
      "Đã ghi nội dung vào file Lab7-Exercise2.txt\n"
     ]
    }
   ],
   "source": [
    "# code lab 7  bài làm thêm ở đây "
   ]
  }
 ],
 "metadata": {
  "kernelspec": {
   "display_name": "Python 3",
   "language": "python",
   "name": "python3"
  },
  "language_info": {
   "codemirror_mode": {
    "name": "ipython",
    "version": 3
   },
   "file_extension": ".py",
   "mimetype": "text/x-python",
   "name": "python",
   "nbconvert_exporter": "python",
   "pygments_lexer": "ipython3",
   "version": "3.13.7"
  }
 },
 "nbformat": 4,
 "nbformat_minor": 5
}

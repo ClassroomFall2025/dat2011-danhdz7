{
 "cells": [
  {
   "cell_type": "markdown",
   "id": "fdeff819",
   "metadata": {},
   "source": [
    "# Sinh Viên thực hiện Lab 1 ở Đây"
   ]
  },
  {
   "cell_type": "markdown",
   "id": "acc5d7dc",
   "metadata": {},
   "source": [
    "## Lab 1 - Bài 1"
   ]
  },
  {
   "cell_type": "code",
   "execution_count": 2,
   "id": "001e0507",
   "metadata": {},
   "outputs": [
    {
     "name": "stdout",
     "output_type": "stream",
     "text": [
      "Xin chào\n",
      "Tôi tên là Nguyễn Trần Công Danh\n",
      "Tôi đến từ Tiền Giang\n"
     ]
    }
   ],
   "source": [
    "# Code lab 1 bài 1 ở đây\n",
    "print(\"Xin chào\")\n",
    "print(\"Tôi tên là Nguyễn Trần Công Danh\")\n",
    "print(\"Tôi đến từ Tiền Giang\")"
   ]
  },
  {
   "cell_type": "markdown",
   "id": "c0835310",
   "metadata": {},
   "source": [
    "## Lab 1 - Bài 2"
   ]
  },
  {
   "cell_type": "code",
   "execution_count": 1,
   "id": "fa9cb39f",
   "metadata": {},
   "outputs": [
    {
     "name": "stdout",
     "output_type": "stream",
     "text": [
      "chu vi hình chữ nhật là: 18.0\n",
      "diện tích hình chữ nhật là: 20.0\n"
     ]
    }
   ],
   "source": [
    "# Code lab 1  bài 2 ở đây\n",
    "\n",
    "dai=float(input(\"nhập chiều dài:\"))\n",
    "rong=float(input(\"nhập chiều rộng:\"))\n",
    "chuvi=(dai+rong)*2\n",
    "dientich=dai*rong\n",
    "print(\"chu vi hình chữ nhật là:\",chuvi)\n",
    "print(\"diện tích hình chữ nhật là:\",dientich)\n"
   ]
  },
  {
   "cell_type": "markdown",
   "id": "0f2483fe",
   "metadata": {},
   "source": [
    "## Lab 1 - Bài 3"
   ]
  },
  {
   "cell_type": "code",
   "execution_count": 23,
   "id": "7034990b",
   "metadata": {},
   "outputs": [
    {
     "name": "stdout",
     "output_type": "stream",
     "text": [
      "\"...\"\n",
      "\n",
      "Sống không giận, không hờn, không oán trách\n",
      "Sống mỉm cười với thử thách chông gai\n",
      "Sống vươn lên, theo kịp gái ban mai\n",
      "Sống chan hòa với những người chung sống.\n",
      "\n",
      "Sống là động nhưng lòng luôn bất động\n",
      "Sống là thương, nhưng lòng chẳng vấn vương\n",
      "Sống yên vui, danh lợi mãi coi thường\n",
      "Tâm bất biến giữa dòng đời vạn biến\n",
      "...\"\n"
     ]
    }
   ],
   "source": [
    "# Code lab 1  bài 3 ở đây\n",
    "song= \"Sống\"\n",
    "print(f\"\\\"...\\\"\\n\")\n",
    "print(f\"{song} không giận, không hờn, không oán trách\")\n",
    "print(f\"{song} mỉm cười với thử thách chông gai\")\n",
    "print(f\"{song} vươn lên, theo kịp gái ban mai\")\n",
    "print(f\"{song} chan hòa với những người chung sống.\")\n",
    "print()\n",
    "print(f\"{song} là động nhưng lòng luôn bất động\")\n",
    "print(f\"{song} là thương, nhưng lòng chẳng vấn vương\")\n",
    "print(f\"{song} yên vui, danh lợi mãi coi thường\")\n",
    "print(f\"Tâm bất biến giữa dòng đời vạn biến\")\n",
    "print(f\"...\\\"\")\n"
   ]
  },
  {
   "cell_type": "markdown",
   "id": "d36ea3d3",
   "metadata": {},
   "source": [
    "## Lab 1 - Bài 4"
   ]
  },
  {
   "cell_type": "code",
   "execution_count": 25,
   "id": "4c707ec1",
   "metadata": {},
   "outputs": [
    {
     "name": "stdout",
     "output_type": "stream",
     "text": [
      "delta = 44.0\n",
      "delta = 6.6332495807108\n"
     ]
    }
   ],
   "source": [
    "# code lab 1 bài 4 ở đây\n",
    "import math\n",
    "a=float(input(\"nhập a:\"))\n",
    "b=float(input(\"nhập b:\"))\n",
    "c=float(input(\"nhập c:\"))\n",
    "delta=b*b-4*a*c\n",
    "print(\"delta =\",abs(delta))\n",
    "print(\"delta =\",math.sqrt(abs(delta)))"
   ]
  },
  {
   "cell_type": "markdown",
   "id": "e2b41d4a",
   "metadata": {},
   "source": [
    "## Lab 1 - Bài 5: bài tập làm thêm"
   ]
  },
  {
   "cell_type": "code",
   "execution_count": null,
   "id": "0e0172f7",
   "metadata": {},
   "outputs": [
    {
     "name": "stdout",
     "output_type": "stream",
     "text": [
      "a cộng b = 5.0\n",
      "a trừ b = -1.0\n",
      "a nhân b = 6.0\n",
      "a chia b = 0.6666666666666666\n"
     ]
    }
   ],
   "source": [
    "# code lab 1  bài làm thêm ở đây \n",
    "#cộng trừ nhân chia\n",
    "a=float(input(\"nhập a:\"))\n",
    "b=float(input(\"nhập b:\"))\n",
    "print(\"a cộng b =\",a+b)\n",
    "print(\"a trừ b =\",a-b)\n",
    "print(\"a nhân b =\",a*b)\n",
    "print(\"a chia b =\",a/b)"
   ]
  },
  {
   "cell_type": "code",
   "execution_count": 9,
   "id": "407af7c4",
   "metadata": {},
   "outputs": [
    {
     "name": "stdout",
     "output_type": "stream",
     "text": [
      "x lũy thừa n = 8.0\n"
     ]
    }
   ],
   "source": [
    "#Lũy thừa\n",
    "x=float(input(\"nhập x:\"))\n",
    "n=int(input(\"nhập n:\"))\n",
    "print(\"x lũy thừa n =\",x**n)"
   ]
  },
  {
   "cell_type": "code",
   "execution_count": null,
   "id": "34d8bb3e",
   "metadata": {},
   "outputs": [],
   "source": [
    "#căn bậc 2\n",
    "y=float(input(\"nhập y:\"))\n",
    "print(\"căn bậc 2 của y =\",math.sqrt(y))"
   ]
  },
  {
   "cell_type": "code",
   "execution_count": null,
   "id": "e41b94b9",
   "metadata": {},
   "outputs": [],
   "source": [
    "#hàm lượng giác\n",
    "goc=float(input(\"nhập góc:\"))\n",
    "print(\"sin góc =\",math.sin(goc))\n",
    "print(\"cos góc =\",math.cos(goc))\n",
    "print(\"tan góc =\",math.tan(goc))\n",
    "print(\"cot góc =\",1/math.tan(goc))"
   ]
  },
  {
   "cell_type": "code",
   "execution_count": 8,
   "id": "e978d397",
   "metadata": {},
   "outputs": [
    {
     "name": "stdout",
     "output_type": "stream",
     "text": [
      "logarit cơ số 10 của z = 1.0\n",
      "logarit cơ số e của z = 2.302585092994046\n",
      "logarit cơ số tùy chọn của z = 1.4306765580733933\n"
     ]
    }
   ],
   "source": [
    "#Logarit, log cơ số tùy chọn\n",
    "import math\n",
    "z=float(input(\"nhập z:\"))\n",
    "print(\"logarit cơ số 10 của z =\",math.log10(z))\n",
    "print(\"logarit cơ số e của z =\",math.log(z))\n",
    "print(\"logarit cơ số tùy chọn của z =\",math.log(z, c))\n",
    "\n"
   ]
  }
 ],
 "metadata": {
  "kernelspec": {
   "display_name": "Python 3",
   "language": "python",
   "name": "python3"
  },
  "language_info": {
   "codemirror_mode": {
    "name": "ipython",
    "version": 3
   },
   "file_extension": ".py",
   "mimetype": "text/x-python",
   "name": "python",
   "nbconvert_exporter": "python",
   "pygments_lexer": "ipython3",
   "version": "3.13.7"
  }
 },
 "nbformat": 4,
 "nbformat_minor": 5
}

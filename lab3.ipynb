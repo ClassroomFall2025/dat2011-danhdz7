{
 "cells": [
  {
   "cell_type": "markdown",
   "id": "fdeff819",
   "metadata": {},
   "source": [
    "# Sinh Viên thực hiện Lab 3 ở Đây"
   ]
  },
  {
   "cell_type": "markdown",
   "id": "acc5d7dc",
   "metadata": {},
   "source": [
    "## Lab 3 - Bài 1"
   ]
  },
  {
   "cell_type": "code",
   "execution_count": 12,
   "id": "001e0507",
   "metadata": {},
   "outputs": [
    {
     "name": "stdout",
     "output_type": "stream",
     "text": [
      "[]\n",
      "Thoát CT\n",
      "Dãy số sau khi sắp xếp tăng dần:  [1, 2, 2, 2, 3, 3, 4, 5, 6, 7, 8, 9, 45, 65]\n",
      "Giá trị nhỏ nhất trong dãy số: 1\n",
      "Giá trị lớn nhất trong dãy số: 65\n",
      "tổng giá trị cần tìm là:  13.2\n"
     ]
    }
   ],
   "source": [
    "# Code lab 3 bài 1 ở đây\n",
    "# Viết chương trình thực hiện các thao tác sau với một dãy số nguyên.\n",
    "# ✓ Sắp xếp theo thứ tự tăng dần và xuất dãy số nguyên ra màn hình.\n",
    "# ✓ Xuất phần tử có giá trị nhỏ nhất ra màn hình\n",
    "# ✓ Tính và xuất ra màn hình trung bình cộng các phần tử chia hết cho 3\n",
    "day_so = []\n",
    "print(day_so)\n",
    "while True:\n",
    "    so = input(\"nhập số:\")\n",
    "    if so.lower() == \"q\":\n",
    "        print(\"Thoát CT\")\n",
    "        break\n",
    "    else:\n",
    "          try:\n",
    "             phan_tu = int(so)\n",
    "             day_so.append(phan_tu)\n",
    "          except ValueError:\n",
    "             print(\"Nhập ngu, nhập lại !\")\n",
    "# print(day_so)\n",
    "\n",
    "# Sắp xếp dãy số tăng dần/ giảm dần Reverse = true\n",
    "day_so.sort(reverse=False)\n",
    "print(\"Dãy số sau khi sắp xếp tăng dần: \", day_so)\n",
    "print(\"Giá trị nhỏ nhất trong dãy số:\", day_so[0])\n",
    "print(\"Giá trị lớn nhất trong dãy số:\", day_so[-1])\n",
    "# duyệt dãy số và tính tổng các số chia hết cho 3\n",
    "tong = 0\n",
    "dem = 0\n",
    "for phan_tu in day_so:\n",
    "   if phan_tu % 3 == 0:\n",
    "      tong = tong + phan_tu\n",
    "      dem = dem + 1\n",
    "#  XUất thông tin:lấy tổng chia cho đếm\n",
    "if dem != 0:\n",
    "   print(\"tổng giá trị cần tìm là: \", tong/dem)\n",
    "else:\n",
    "   print(\"không có số nào trong dãy chia hết cho 3\")\n"
   ]
  },
  {
   "cell_type": "markdown",
   "id": "c0835310",
   "metadata": {},
   "source": [
    "## Lab 3 - Bài 2"
   ]
  },
  {
   "cell_type": "code",
   "execution_count": null,
   "id": "fa9cb39f",
   "metadata": {},
   "outputs": [
    {
     "name": "stdout",
     "output_type": "stream",
     "text": [
      "danh\n"
     ]
    }
   ],
   "source": [
    "# Code lab 3  bài 2 ở đây\n",
    "# Viết ct nhập dữ liệu của 1 sinh viên: thông tin của sinh viên bao gồm: họ tên và điểm\n",
    "#Xuất dữ liệu đã nhập, bổ sung thêm thông tin về xếp loại \n",
    "#yếu: điểm < 5, trung bình 5 <= điểm 7, khá: 7 < = điểm < 8, giỏi: 8 <= điểm < 9, xuất sắc: điểm >= 9\n",
    "#Sử dụng dữ liệu kiểu dictionary (từ điển) để lưu thông tin của sinh viên\n",
    "# Sử dụng lệnh if để xét học lực sau đó xuất thông tin của sinh viên\n",
    "#  Họ tên:\n",
    "#  Điểm:\n",
    "#  Xếp loại:\n",
    "\n",
    "danh_sach_SV = []\n",
    "while True:\n",
    "    ho_ten = input(\"nhập họ và tên sinh viên: (nhập 's' để dừng):\")\n",
    "    if ho_ten.lower() == \"s\":\n",
    "        break\n",
    "    diem = float(input(\"nhập điểm sinh viên:\"))\n",
    "    sinh_vien = {\"Họ và tên\": ho_ten, \"Điểm\": diem}\n",
    "    if diem < 5:\n",
    "       sinh_vien[\"Xếp loại\"] = \"Yếu\"\n",
    "    elif 5 <= diem < 7:\n",
    "       sinh_vien[\"Xếp loại\"] = \"Trung bình\"\n",
    "    elif 7 <= diem < 8:\n",
    "       sinh_vien[\"Xếp loại\"] = \"Khá\"\n",
    "    elif 8 <= diem < 9: \n",
    "        sinh_vien[\"Xếp loại\"] = \"Giỏi\"\n",
    "    elif diem >= 9:\n",
    "        sinh_vien[\"Xếp loại\"] = \"Xuất sắc\"\n",
    "\n",
    "    danh_sach_SV.append(sinh_vien)\n",
    "\n",
    "for sv in danh_sach_SV:\n",
    "    print(\"Họ và tên:\", sv[\"Họ và tên\"])\n",
    "    print(\"Điểm:\", sv[\"Điểm\"])\n",
    "    print(\"Xếp loại:\", sv[\"Xếp loại\"])\n",
    "    print(\"\")\n"
   ]
  },
  {
   "cell_type": "code",
   "execution_count": 9,
   "id": "ff5ed501",
   "metadata": {},
   "outputs": [
    {
     "name": "stdout",
     "output_type": "stream",
     "text": [
      "Thoát CT\n",
      "[{'họ tên': 'danh', 'điểm': 8.0, 'học lực': 'giỏi'}]\n"
     ]
    }
   ],
   "source": [
    "# Sử dụng dữ liệu kiểu dictionary (từ điển) để lưu thông tin của sinh viên\n",
    "# Sử dụng lệnh if để xét học lực sau đó xuất thông tin của sinh viên\n",
    "# o Họ tên:\n",
    "# o Điểm:\n",
    "# o Xếp loại:\n",
    "# sinh_vien = {\n",
    "#     \"họ tên\":\"\",\n",
    "#     \"điểm\":\"\"\n",
    "# }\n",
    "# ho_ten = input(\"Nhập họ và tên sinh viên:\")\n",
    "# diem = float(input(\"Nhập điểm:\"))\n",
    "# sinh_vien[\"họ tên\"] = ho_ten\n",
    "# sinh_vien[\"điểm\"] = diem\n",
    "# if diem >= 9 and diem <= 10:\n",
    "#     hoc_luc = \"xuất sắc\"\n",
    "# elif diem >= 8:\n",
    "#     hoc_luc = \"giỏi\"\n",
    "# elif diem >= 7:\n",
    "#     hoc_luc = \"khá\"\n",
    "# elif diem >= 5:\n",
    "#     hoc_luc = \"Tb\"\n",
    "# else:\n",
    "#     hoc_luc = \"chưa đạt\"\n",
    "# sinh_vien[\"học lực\"] = hoc_luc\n",
    "# print(sinh_vien)\n",
    "\n",
    "ds_sinhvien = []\n",
    "sinh_vien = {}\n",
    "while True:\n",
    "    ho_ten = input(\"nhập họ và tên sinh viên:\")\n",
    "    if ho_ten == \"q\":\n",
    "        print(\"Thoát CT\")\n",
    "        break\n",
    "    else:\n",
    "        diem = float(input(\"Nhập điểm: \"))\n",
    "        if diem >= 9 and diem <= 10:\n",
    "            hoc_luc = \"xuất sắc\"\n",
    "        elif diem >= 8:\n",
    "            hoc_luc = \"giỏi\"\n",
    "        elif diem >= 7:\n",
    "            hoc_luc = \"khá\"\n",
    "        elif diem >= 5:\n",
    "            hoc_luc = \"Tb\"\n",
    "        else:\n",
    "            hoc_luc = \"chưa đạt\"\n",
    "        sinh_vien[\"họ tên\"] = ho_ten\n",
    "        sinh_vien[\"điểm\"] = diem\n",
    "        sinh_vien[\"học lực\"] = hoc_luc\n",
    "        ds_sinhvien.append(sinh_vien)\n",
    "print(ds_sinhvien)"
   ]
  },
  {
   "cell_type": "markdown",
   "id": "0f2483fe",
   "metadata": {},
   "source": [
    "## Lab 3 - Bài 3"
   ]
  },
  {
   "cell_type": "code",
   "execution_count": null,
   "id": "7034990b",
   "metadata": {},
   "outputs": [
    {
     "name": "stdout",
     "output_type": "stream",
     "text": [
      "Họ và tên: thịnh\n",
      "Điểm: 5.0\n",
      "Xếp loại: Trung bình\n",
      "\n",
      "Họ và tên: danh\n",
      "Điểm: 5.0\n",
      "Xếp loại: Trung bình\n",
      "\n",
      "Họ và tên: hưng\n",
      "Điểm: 3.0\n",
      "Xếp loại: Yếu\n",
      "\n"
     ]
    }
   ],
   "source": [
    "# Code lab 3  bài 3 ở đây\n",
    "# Viết chương trình nhập một số nguyên từ bàn phím và cho biết số đó có phải là số\n",
    "# nguyên tố hay không (số nguyên tố là số chỉ chia hết cho 1 và chính nó).\n",
    "\n",
    "n = int(input(\"Nhập một số nguyên: \"))\n",
    "if n < 2:\n",
    "    print(n, \"không phải là số nguyên tố\")\n",
    "else:\n",
    "    is_prime = True\n",
    "    for i in range(2, int(n**0.5) + 1):\n",
    "        if n % i == 0:\n",
    "            is_prime = False\n",
    "            break\n",
    "    if is_prime:\n",
    "        print(n, \"là số nguyên tố\")\n",
    "    else:\n",
    "        print(n, \"không phải là số nguyên tố\")"
   ]
  },
  {
   "cell_type": "markdown",
   "id": "d36ea3d3",
   "metadata": {},
   "source": [
    "## Lab 3 - Bài 4"
   ]
  },
  {
   "cell_type": "code",
   "execution_count": null,
   "id": "4c707ec1",
   "metadata": {},
   "outputs": [
    {
     "name": "stdout",
     "output_type": "stream",
     "text": [
      "\n",
      "1. Cộng (+)\n",
      "2. Trừ (-)\n",
      "3. Nhân (*)\n",
      "4. Chia (/)\n",
      "0. Thoát\n",
      "Kết quả: 4.0 - 3.0 = 1.0\n",
      "\n",
      "1. Cộng (+)\n",
      "2. Trừ (-)\n",
      "3. Nhân (*)\n",
      "4. Chia (/)\n",
      "0. Thoát\n",
      "Kết quả: 4.0 +5.0 = 9.0\n",
      "\n",
      "1. Cộng (+)\n",
      "2. Trừ (-)\n",
      "3. Nhân (*)\n",
      "4. Chia (/)\n",
      "0. Thoát\n",
      "cúc!\n"
     ]
    }
   ],
   "source": [
    "# code lab 3 bài 4 ở đây\n",
    "# code lab 3 bài 4 ở đây\n",
    "# Xuất ra màn hình bảng cửu chương từ 1 đến 9\n",
    "\n",
    "for i in range(1, 10):         # Vòng lặp cho từng bảng nhân\n",
    "    print(f\"Bảng nhân {i}:\")\n",
    "    for j in range(1, 10):     # Vòng lặp cho từng phép nhân trong bảng\n",
    "        print(\"%d x %d = %d\" % (i, j, i * j))\n",
    "    print(\"--------------------\")   # Phân cách giữa các bảng\n",
    "\n"
   ]
  },
  {
   "cell_type": "markdown",
   "id": "e2b41d4a",
   "metadata": {},
   "source": [
    "## Lab 3 - Bài 5: bài tập làm thêm"
   ]
  },
  {
   "cell_type": "code",
   "execution_count": null,
   "id": "0e0172f7",
   "metadata": {},
   "outputs": [],
   "source": [
    "# code lab 3  bài làm thêm ở đây "
   ]
  }
 ],
 "metadata": {
  "kernelspec": {
   "display_name": "Python 3",
   "language": "python",
   "name": "python3"
  },
  "language_info": {
   "codemirror_mode": {
    "name": "ipython",
    "version": 3
   },
   "file_extension": ".py",
   "mimetype": "text/x-python",
   "name": "python",
   "nbconvert_exporter": "python",
   "pygments_lexer": "ipython3",
   "version": "3.13.7"
  }
 },
 "nbformat": 4,
 "nbformat_minor": 5
}

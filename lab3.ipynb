{
 "cells": [
  {
   "cell_type": "markdown",
   "id": "fdeff819",
   "metadata": {},
   "source": [
    "# Sinh Viên thực hiện Lab 3 ở Đây"
   ]
  },
  {
   "cell_type": "markdown",
   "id": "acc5d7dc",
   "metadata": {},
   "source": [
    "## Lab 3 - Bài 1"
   ]
  },
  {
   "cell_type": "code",
   "execution_count": null,
   "id": "001e0507",
   "metadata": {},
   "outputs": [
    {
     "name": "stdout",
     "output_type": "stream",
     "text": [
      "[]\n",
      "Thoát CT\n",
      "Dãy số sau khi sắp xếp tăng dần:  [1, 2, 2, 2, 3, 3, 4, 5, 6, 7, 8, 9, 45, 65]\n",
      "Giá trị nhỏ nhất trong dãy số: 1\n",
      "Giá trị lớn nhất trong dãy số: 65\n",
      "tổng giá trị cần tìm là:  13.2\n"
     ]
    }
   ],
   "source": [
    "# Code lab 3 bài 1 ở đây\n",
    "# Viết chương trình thực hiện các thao tác sau với một dãy số nguyên.\n",
    "# ✓ Sắp xếp theo thứ tự tăng dần và xuất dãy số nguyên ra màn hình.\n",
    "# ✓ Xuất phần tử có giá trị nhỏ nhất ra màn hình\n",
    "# ✓ Tính và xuất ra màn hình trung bình cộng các phần tử chia hết cho 3\n",
    "day_so = []\n",
    "print(day_so)\n",
    "while True:\n",
    "    so = input(\"nhập số:\")\n",
    "    if so.lower() == \"q\":\n",
    "        print(\"Thoát CT\")\n",
    "        break\n",
    "    else:\n",
    "          try:\n",
    "             phan_tu = int(so)\n",
    "             day_so.append(phan_tu)\n",
    "          except ValueError:\n",
    "             print(\"Nhập ngu, nhập lại !\")\n",
    "# print(day_so)\n",
    "# Sắp xếp dãy số tăng dần/ giảm dần Reverse = true\n",
    "day_so.sort(reverse=False)\n",
    "print(\"Dãy số sau khi sắp xếp tăng dần: \", day_so)\n",
    "print(\"Giá trị nhỏ nhất trong dãy số:\", day_so[0])\n",
    "print(\"Giá trị lớn nhất trong dãy số:\", day_so[-1])\n",
    "# duyệt dãy số và tính tổng các số chia hết cho 3\n",
    "tong = 0\n",
    "dem = 0\n",
    "for phan_tu in day_so:\n",
    "   if phan_tu % 3 == 0:\n",
    "      tong = tong + phan_tu\n",
    "      dem = dem + 1\n",
    "#  XUất thông tin:lấy tổng chia cho đếm\n",
    "if dem != 0:\n",
    "   print(\"tổng giá trị cần tìm là: \", tong/dem)\n",
    "else:\n",
    "   print(\"không có số nào trong dãy chia hết cho 3\")\n"
   ]
  },
  {
   "cell_type": "markdown",
   "id": "c0835310",
   "metadata": {},
   "source": [
    "## Lab 3 - Bài 2"
   ]
  },
  {
   "cell_type": "code",
   "execution_count": null,
   "id": "fa9cb39f",
   "metadata": {},
   "outputs": [
    {
     "name": "stdout",
     "output_type": "stream",
     "text": [
      "danh\n"
     ]
    }
   ],
   "source": [
    "# Code lab 3  bài 2 ở đây\n",
    "# Viết ct nhập dữ liệu của 1 sinh viên: thông tin của sinh viên bao gồm: họ tên và điểm\n",
    "#Xuất dữ liệu đã nhập, bổ sung thêm thông tin về xếp loại \n",
    "#yếu: điểm < 5, trung bình 5 <= điểm 7, khá: 7 < = điểm < 8, giỏi: 8 <= điểm < 9, xuất sắc: điểm >= 9\n",
    "#Sử dụng dữ liệu kiểu dictionary (từ điển) để lưu thông tin của sinh viên\n",
    "# Sử dụng lệnh if để xét học lực sau đó xuất thông tin của sinh viên\n",
    "danh_sach_SV = []\n",
    "while True:\n",
    "    ho_ten = input(\"nhập họ và tên sinh viên: (nhập 's' để dừng):\")\n",
    "    if ho_ten.lower() == \"s\":\n",
    "        break\n",
    "    diem = float(input(\"nhập điểm sinh viên:\"))\n",
    "    sinh_vien = {\"Họ và tên\": ho_ten, \"Điểm\": diem}\n",
    "    if diem < 5:\n",
    "       sinh_vien[\"Xếp loại\"] = \"Yếu\"\n",
    "    elif 5 <= diem < 7:\n",
    "       sinh_vien[\"Xếp loại\"] = \"Trung bình\"\n",
    "    elif 7 <= diem < 8:\n",
    "       sinh_vien[\"Xếp loại\"] = \"Khá\"\n",
    "    elif 8 <= diem < 9: \n",
    "        sinh_vien[\"Xếp loại\"] = \"Giỏi\"\n",
    "    elif diem >= 9:\n",
    "        sinh_vien[\"Xếp loại\"] = \"Xuất sắc\"\n",
    "\n",
    "    danh_sach_SV.append(sinh_vien)\n",
    "\n",
    "for sv in danh_sach_SV:\n",
    "    print(\"Họ và tên:\", sv[\"Họ và tên\"])\n",
    "    print(\"Điểm:\", sv[\"Điểm\"])\n",
    "    print(\"Xếp loại:\", sv[\"Xếp loại\"])\n",
    "    print(\"\")\n"
   ]
  },
  {
   "cell_type": "code",
   "execution_count": 9,
   "id": "ff5ed501",
   "metadata": {},
   "outputs": [
    {
     "name": "stdout",
     "output_type": "stream",
     "text": [
      "Thoát CT\n",
      "[{'họ tên': 'danh', 'điểm': 8.0, 'học lực': 'giỏi'}]\n"
     ]
    }
   ],
   "source": [
    "# Sử dụng dữ liệu kiểu dictionary (từ điển) để lưu thông tin của sinh viên\n",
    "# Sử dụng lệnh if để xét học lực sau đó xuất thông tin của sinh viên\n",
    "# o Họ tên:\n",
    "# o Điểm:\n",
    "# o Xếp loại:\n",
    "# sinh_vien = {\n",
    "#     \"họ tên\":\"\",\n",
    "#     \"điểm\":\"\"\n",
    "# }\n",
    "# ho_ten = input(\"Nhập họ và tên sinh viên:\")\n",
    "# diem = float(input(\"Nhập điểm:\"))\n",
    "# sinh_vien[\"họ tên\"] = ho_ten\n",
    "# sinh_vien[\"điểm\"] = diem\n",
    "# if diem >= 9 and diem <= 10:\n",
    "#     hoc_luc = \"xuất sắc\"\n",
    "# elif diem >= 8:\n",
    "#     hoc_luc = \"giỏi\"\n",
    "# elif diem >= 7:\n",
    "#     hoc_luc = \"khá\"\n",
    "# elif diem >= 5:\n",
    "#     hoc_luc = \"Tb\"\n",
    "# else:\n",
    "#     hoc_luc = \"chưa đạt\"\n",
    "# sinh_vien[\"học lực\"] = hoc_luc\n",
    "# print(sinh_vien)\n",
    "\n",
    "ds_sinhvien = []\n",
    "sinh_vien = {}\n",
    "while True:\n",
    "    ho_ten = input(\"nhập họ và tên sinh viên:\")\n",
    "    if ho_ten == \"q\":\n",
    "        print(\"Thoát CT\")\n",
    "        break\n",
    "    else:\n",
    "        diem = float(input(\"Nhập điểm: \"))\n",
    "        if diem >= 9 and diem <= 10:\n",
    "            hoc_luc = \"xuất sắc\"\n",
    "        elif diem >= 8:\n",
    "            hoc_luc = \"giỏi\"\n",
    "        elif diem >= 7:\n",
    "            hoc_luc = \"khá\"\n",
    "        elif diem >= 5:\n",
    "            hoc_luc = \"Tb\"\n",
    "        else:\n",
    "            hoc_luc = \"chưa đạt\"\n",
    "        sinh_vien[\"họ tên\"] = ho_ten\n",
    "        sinh_vien[\"điểm\"] = diem\n",
    "        sinh_vien[\"học lực\"] = hoc_luc\n",
    "        ds_sinhvien.append(sinh_vien)\n",
    "print(ds_sinhvien)"
   ]
  },
  {
   "cell_type": "markdown",
   "id": "0f2483fe",
   "metadata": {},
   "source": [
    "## Lab 3 - Bài 3"
   ]
  },
  {
   "cell_type": "code",
   "execution_count": 1,
   "id": "7034990b",
   "metadata": {},
   "outputs": [
    {
     "name": "stdout",
     "output_type": "stream",
     "text": [
      "3 là số nguyên tố\n"
     ]
    }
   ],
   "source": [
    "# Code lab 3  bài 3 ở đây\n",
    "# Viết chương trình nhập một số nguyên từ bàn phím và cho biết số đó có phải là số\n",
    "# nguyên tố hay không (số nguyên tố là số chỉ chia hết cho 1 và chính nó).\n",
    "\n",
    "n = int(input(\"Nhập một số nguyên: \"))\n",
    "if n < 2:\n",
    "    print(n, \"không phải là số nguyên tố\")\n",
    "else:\n",
    "    is_prime = True\n",
    "    for i in range(2, int(n**0.5) + 1):\n",
    "        if n % i == 0:\n",
    "            is_prime = False\n",
    "            break\n",
    "    if is_prime:\n",
    "        print(n, \"là số nguyên tố\")\n",
    "    else:\n",
    "        print(n, \"không phải là số nguyên tố\")"
   ]
  },
  {
   "cell_type": "markdown",
   "id": "d36ea3d3",
   "metadata": {},
   "source": [
    "## Lab 3 - Bài 4"
   ]
  },
  {
   "cell_type": "code",
   "execution_count": 2,
   "id": "4c707ec1",
   "metadata": {},
   "outputs": [
    {
     "name": "stdout",
     "output_type": "stream",
     "text": [
      "Bảng nhân 1:\n",
      "1 x 1 = 1\n",
      "1 x 2 = 2\n",
      "1 x 3 = 3\n",
      "1 x 4 = 4\n",
      "1 x 5 = 5\n",
      "1 x 6 = 6\n",
      "1 x 7 = 7\n",
      "1 x 8 = 8\n",
      "1 x 9 = 9\n",
      "--------------------\n",
      "Bảng nhân 2:\n",
      "2 x 1 = 2\n",
      "2 x 2 = 4\n",
      "2 x 3 = 6\n",
      "2 x 4 = 8\n",
      "2 x 5 = 10\n",
      "2 x 6 = 12\n",
      "2 x 7 = 14\n",
      "2 x 8 = 16\n",
      "2 x 9 = 18\n",
      "--------------------\n",
      "Bảng nhân 3:\n",
      "3 x 1 = 3\n",
      "3 x 2 = 6\n",
      "3 x 3 = 9\n",
      "3 x 4 = 12\n",
      "3 x 5 = 15\n",
      "3 x 6 = 18\n",
      "3 x 7 = 21\n",
      "3 x 8 = 24\n",
      "3 x 9 = 27\n",
      "--------------------\n",
      "Bảng nhân 4:\n",
      "4 x 1 = 4\n",
      "4 x 2 = 8\n",
      "4 x 3 = 12\n",
      "4 x 4 = 16\n",
      "4 x 5 = 20\n",
      "4 x 6 = 24\n",
      "4 x 7 = 28\n",
      "4 x 8 = 32\n",
      "4 x 9 = 36\n",
      "--------------------\n",
      "Bảng nhân 5:\n",
      "5 x 1 = 5\n",
      "5 x 2 = 10\n",
      "5 x 3 = 15\n",
      "5 x 4 = 20\n",
      "5 x 5 = 25\n",
      "5 x 6 = 30\n",
      "5 x 7 = 35\n",
      "5 x 8 = 40\n",
      "5 x 9 = 45\n",
      "--------------------\n",
      "Bảng nhân 6:\n",
      "6 x 1 = 6\n",
      "6 x 2 = 12\n",
      "6 x 3 = 18\n",
      "6 x 4 = 24\n",
      "6 x 5 = 30\n",
      "6 x 6 = 36\n",
      "6 x 7 = 42\n",
      "6 x 8 = 48\n",
      "6 x 9 = 54\n",
      "--------------------\n",
      "Bảng nhân 7:\n",
      "7 x 1 = 7\n",
      "7 x 2 = 14\n",
      "7 x 3 = 21\n",
      "7 x 4 = 28\n",
      "7 x 5 = 35\n",
      "7 x 6 = 42\n",
      "7 x 7 = 49\n",
      "7 x 8 = 56\n",
      "7 x 9 = 63\n",
      "--------------------\n",
      "Bảng nhân 8:\n",
      "8 x 1 = 8\n",
      "8 x 2 = 16\n",
      "8 x 3 = 24\n",
      "8 x 4 = 32\n",
      "8 x 5 = 40\n",
      "8 x 6 = 48\n",
      "8 x 7 = 56\n",
      "8 x 8 = 64\n",
      "8 x 9 = 72\n",
      "--------------------\n",
      "Bảng nhân 9:\n",
      "9 x 1 = 9\n",
      "9 x 2 = 18\n",
      "9 x 3 = 27\n",
      "9 x 4 = 36\n",
      "9 x 5 = 45\n",
      "9 x 6 = 54\n",
      "9 x 7 = 63\n",
      "9 x 8 = 72\n",
      "9 x 9 = 81\n",
      "--------------------\n"
     ]
    }
   ],
   "source": [
    "# code lab 3 bài 4 ở đây\n",
    "# code lab 3 bài 4 ở đây\n",
    "# Xuất ra màn hình bảng cửu chương từ 1 đến 9\n",
    "\n",
    "for i in range(1, 10):         # Vòng lặp cho từng bảng nhân\n",
    "    print(f\"Bảng nhân {i}:\")\n",
    "    for j in range(1, 10):     # Vòng lặp cho từng phép nhân trong bảng\n",
    "        print(\"%d x %d = %d\" % (i, j, i * j))\n",
    "    print(\"--------------------\")   # Phân cách giữa các bảng\n",
    "\n"
   ]
  },
  {
   "cell_type": "markdown",
   "id": "e2b41d4a",
   "metadata": {},
   "source": [
    "## Lab 3 - Bài 5: bài tập làm thêm"
   ]
  },
  {
   "cell_type": "code",
   "execution_count": 4,
   "id": "0e0172f7",
   "metadata": {},
   "outputs": [
    {
     "name": "stdout",
     "output_type": "stream",
     "text": [
      "\n",
      "===== LỊCH SỬ TÍNH TOÁN =====\n",
      "1. 2 + 3 = 5\n",
      "2. 10 / 2 = 5\n",
      "=============================\n",
      "\n"
     ]
    }
   ],
   "source": [
    "# code lab 3  bài làm thêm ở đây \n",
    "# 8. Lịch sử tính toán\n",
    "\n",
    "lich_su = []\n",
    "\n",
    "def luu_lich_su(phep_tinh, ket_qua):\n",
    "    lich_su.append(f\"{phep_tinh} = {ket_qua}\")\n",
    "\n",
    "def xem_lich_su():\n",
    "    print(\"\\n===== LỊCH SỬ TÍNH TOÁN =====\")\n",
    "    if not lich_su:\n",
    "        print(\"Chưa có phép tính nào được lưu.\")\n",
    "    else:\n",
    "        for i, item in enumerate(lich_su, start=1):\n",
    "            print(f\"{i}. {item}\")\n",
    "    print(\"=============================\\n\")\n",
    "    # Demo\n",
    "if __name__ == \"__main__\":\n",
    "    luu_lich_su(\"2 + 3\", 5)\n",
    "    luu_lich_su(\"10 / 2\", 5)\n",
    "    xem_lich_su()"
   ]
  },
  {
   "cell_type": "code",
   "execution_count": 5,
   "id": "75c3b0e1",
   "metadata": {},
   "outputs": [
    {
     "name": "stdout",
     "output_type": "stream",
     "text": [
      "\n",
      "===== THỜI GIAN HIỆN TẠI =====\n",
      "02/10/2025 22:59:27\n",
      "==============================\n",
      "\n"
     ]
    }
   ],
   "source": [
    "# 9. Hiển thị thời gian hiện tại\n",
    "import datetime\n",
    "\n",
    "def xem_thoi_gian():\n",
    "    now = datetime.datetime.now()\n",
    "    print(\"\\n===== THỜI GIAN HIỆN TẠI =====\")\n",
    "    print(now.strftime(\"%d/%m/%Y %H:%M:%S\"))\n",
    "    print(\"==============================\\n\")\n",
    "\n",
    "# Demo\n",
    "if __name__ == \"__main__\":\n",
    "    xem_thoi_gian()\n"
   ]
  },
  {
   "cell_type": "code",
   "execution_count": 6,
   "id": "bc80452f",
   "metadata": {},
   "outputs": [
    {
     "name": "stdout",
     "output_type": "stream",
     "text": [
      "\n",
      "===== MÁY TÍNH MINI =====\n",
      "8. Lịch sử tính toán\n",
      "9. Xem thời gian hiện tại\n",
      "0. Thoát\n",
      "=========================\n",
      ">>> Gọi chức năng Lịch sử (8)\n",
      "\n",
      "===== MÁY TÍNH MINI =====\n",
      "8. Lịch sử tính toán\n",
      "9. Xem thời gian hiện tại\n",
      "0. Thoát\n",
      "=========================\n",
      "Thoát chương trình. Tạm biệt!\n"
     ]
    }
   ],
   "source": [
    "# 10. Menu tiếng Việt\n",
    "\n",
    "def menu():\n",
    "    print(\"\\n===== MÁY TÍNH MINI =====\")\n",
    "    print(\"8. Lịch sử tính toán\")\n",
    "    print(\"9. Xem thời gian hiện tại\")\n",
    "    print(\"0. Thoát\")\n",
    "    print(\"=========================\")\n",
    "\n",
    "def main():\n",
    "    while True:\n",
    "        menu()\n",
    "        chon = input(\"Chọn chức năng: \")\n",
    "\n",
    "        if chon == \"8\":\n",
    "            print(\">>> Gọi chức năng Lịch sử (8)\")\n",
    "        elif chon == \"9\":\n",
    "            print(\">>> Gọi chức năng Thời gian (9)\")\n",
    "        elif chon == \"0\":\n",
    "            print(\"Thoát chương trình. Tạm biệt!\")\n",
    "            break\n",
    "        else:\n",
    "            print(\"Lựa chọn không hợp lệ!\")\n",
    "\n",
    "if __name__ == \"__main__\":\n",
    "    main()\n"
   ]
  }
 ],
 "metadata": {
  "kernelspec": {
   "display_name": "Python 3",
   "language": "python",
   "name": "python3"
  },
  "language_info": {
   "codemirror_mode": {
    "name": "ipython",
    "version": 3
   },
   "file_extension": ".py",
   "mimetype": "text/x-python",
   "name": "python",
   "nbconvert_exporter": "python",
   "pygments_lexer": "ipython3",
   "version": "3.13.7"
  }
 },
 "nbformat": 4,
 "nbformat_minor": 5
}

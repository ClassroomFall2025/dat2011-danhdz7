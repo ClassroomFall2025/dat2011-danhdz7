{
 "cells": [
  {
   "cell_type": "markdown",
   "id": "fdeff819",
   "metadata": {},
   "source": [
    "# Sinh Viên thực hiện Lab 5 ở Đây"
   ]
  },
  {
   "cell_type": "markdown",
   "id": "acc5d7dc",
   "metadata": {},
   "source": [
    "## Lab 5 - Bài 1"
   ]
  },
  {
   "cell_type": "code",
   "execution_count": null,
   "id": "001e0507",
   "metadata": {},
   "outputs": [],
   "source": [
    "# Code lab 5 bài 1 ở đây\n",
    "from sanpham import *\n",
    "sp1 = San_Pham(\"\",\"\",\"\")\n",
    "sp1.nhap_sp()\n",
    "sp1.xuat_tt_sp()\n"
   ]
  },
  {
   "cell_type": "markdown",
   "id": "c0835310",
   "metadata": {},
   "source": [
    "## Lab 5 - Bài 2"
   ]
  },
  {
   "cell_type": "code",
   "execution_count": 2,
   "id": "fa9cb39f",
   "metadata": {},
   "outputs": [
    {
     "name": "stdout",
     "output_type": "stream",
     "text": [
      "Sản phẩm danh có giá 20000000.0 và được giảm giá 40000.0 và thuế nhập khẩu: 2000000.0\n",
      "Sản phẩm hư có giá 32432094.0 và được giảm giá 232442.0 và thuế nhập khẩu: 3243209.4000000004\n"
     ]
    }
   ],
   "source": [
    "# Code lab 5  bài 2 ở đây\n",
    "from sanpham import *\n",
    "sp1 = San_Pham(\"\",\"\",\"\")\n",
    "sp2 = San_Pham(\"\",\"\",\"\")\n",
    "sp1.nhap_tt_sp()\n",
    "sp2.nhap_tt_sp()\n",
    "sp1.xuat_tt_sp()\n",
    "sp2.xuat_tt_sp()"
   ]
  },
  {
   "cell_type": "markdown",
   "id": "0f2483fe",
   "metadata": {},
   "source": [
    "## Lab 5 - Bài 3"
   ]
  },
  {
   "cell_type": "code",
   "execution_count": 3,
   "id": "7034990b",
   "metadata": {},
   "outputs": [
    {
     "name": "stdout",
     "output_type": "stream",
     "text": [
      "Sản phẩm danh có giá 20039240.0 và được giảm giá 290000.0 và thuế nhập khẩu: 2003924.0\n",
      "sản phẩm tên:  danh\n"
     ]
    }
   ],
   "source": [
    "# Code lab 5  bài 3 ở đây\n",
    "from sanpham import *\n",
    "sp1 = San_Pham(\"\",\"\",\"\")\n",
    "sp1.nhap_tt_sp()\n",
    "sp1.xuat_tt_sp()\n",
    "print(f\"sản phẩm tên: \",sp1.get_ten())"
   ]
  },
  {
   "cell_type": "markdown",
   "id": "d36ea3d3",
   "metadata": {},
   "source": [
    "## Lab 5 - Bài 4"
   ]
  },
  {
   "cell_type": "code",
   "execution_count": null,
   "id": "4c707ec1",
   "metadata": {},
   "outputs": [
    {
     "name": "stdout",
     "output_type": "stream",
     "text": [
      "Nhập thông tin sản phẩm 1:\n"
     ]
    },
    {
     "name": "stdout",
     "output_type": "stream",
     "text": [
      "\n",
      "Nhập thông tin sản phẩm 2:\n",
      "\n",
      "--- THÔNG TIN SẢN PHẨM 1 ---\n",
      "Sản phẩm do cu tanh có giá 300000.0 và được giảm giá 10000.0 và thuế nhập khẩu: 30000.0\n",
      "\n",
      "--- THÔNG TIN SẢN PHẨM 2 ---\n",
      "Sản phẩm hưn có giá 30000.0 và được giảm giá 1000.0 và thuế nhập khẩu: 3000.0\n"
     ]
    }
   ],
   "source": [
    "# code lab 5 bài 4 ở đây\n",
    "from sanpham import San_Pham\n",
    "\n",
    "print(\"Nhập thông tin sản phẩm 1:\")\n",
    "ten1 = input(\"Tên SP: \")\n",
    "gia1 = float(input(\"Giá SP: \"))\n",
    "giam_gia1 = float(input(\"Giảm giá: \"))\n",
    "\n",
    "print(\"\\nNhập thông tin sản phẩm 2:\")\n",
    "ten2 = input(\"Tên SP: \")\n",
    "gia2 = float(input(\"Giá SP: \"))\n",
    "giam_gia2 = float(input(\"Giảm giá: \"))\n",
    "\n",
    "sp1 = San_Pham(ten1, gia1, giam_gia1)\n",
    "sp2 = San_Pham(ten2, gia2, giam_gia2)\n",
    "\n",
    "print(\"\\n--- THÔNG TIN SẢN PHẨM 1 ---\")\n",
    "sp1.xuat_tt_sp()\n",
    "print(\"\\n--- THÔNG TIN SẢN PHẨM 2 ---\")\n",
    "sp2.xuat_tt_sp()"
   ]
  },
  {
   "cell_type": "markdown",
   "id": "e2b41d4a",
   "metadata": {},
   "source": [
    "## Lab 5 - Bài 5: bài tập làm thêm"
   ]
  },
  {
   "cell_type": "code",
   "execution_count": null,
   "id": "0e0172f7",
   "metadata": {},
   "outputs": [],
   "source": [
    "from Lab5 import MathCalculator, HistoryManager\n",
    "\n",
    "hist = HistoryManager()\n",
    "calc = MathCalculator(hist)\n",
    "\n",
    "def menu_cli():\n",
    "    MENU = (\n",
    "        \"\\n======== MÁY TÍNH OOP (CƠ BẢN) ========\\n\"\n",
    "        \"1. Cơ bản (+, -, *, /)\\n\"\n",
    "        \"2. Lũy thừa a^b\\n\"\n",
    "        \"3. Căn bậc hai (2 số)\\n\"\n",
    "        \"4. Hàm lượng giác (2 góc độ)\\n\"\n",
    "        \"5. Logarit (10, e, và cơ số tuỳ chọn)\\n\"\n",
    "        \"6. Giải PT bậc nhất (ax + b = 0)\\n\"\n",
    "        \"7. Giải PT bậc hai (ax^2 + bx + c = 0)\\n\"\n",
    "        \"8. Xem lịch sử\\n\"\n",
    "        \"9. Xem thời gian hiện tại\\n\"\n",
    "        \"0. Thoát\\n\"\n",
    "        \"=======================================\\n\"\n",
    "        \"Chọn: \"\n",
    "    )\n",
    "    while True:\n",
    "        ch = input(MENU).strip()\n",
    "        try:\n",
    "            if ch == \"1\":\n",
    "                a = float(input(\"Nhập a: \"))\n",
    "                b = float(input(\"Nhập b: \"))\n",
    "                tong, hieu, tich, thuong = calc.basic_ops(a, b)\n",
    "                print(\"Tổng:\", tong)\n",
    "                print(\"Hiệu:\", hieu)\n",
    "                print(\"Tích:\", tich)\n",
    "                print(\"Thương:\", \"Không thể chia cho 0\" if thuong is None else thuong)\n",
    "\n",
    "            elif ch == \"2\":\n",
    "                a = float(input(\"Nhập a: \"))\n",
    "                b = float(input(\"Nhập b (số mũ): \"))\n",
    "                print(\"Lũy thừa:\", calc.power(a, b))\n",
    "\n",
    "            elif ch == \"3\":\n",
    "                a = float(input(\"Nhập a: \"))\n",
    "                b = float(input(\"Nhập b: \"))\n",
    "                sa, sb = calc.sqrt_pair(a, b)\n",
    "                print(\"√a:\", \"Lỗi: số âm\" if sa is None else sa)\n",
    "                print(\"√b:\", \"Lỗi: số âm\" if sb is None else sb)\n",
    "\n",
    "            elif ch == \"4\":\n",
    "                a = float(input(\"Nhập góc a (°): \"))\n",
    "                b = float(input(\"Nhập góc b (°): \"))\n",
    "                for k, v in calc.trig_deg(a, b).items():\n",
    "                    print(f\"{k} = {v}\")\n",
    "\n",
    "            elif ch == \"5\":\n",
    "                a = float(input(\"Nhập a (>0): \"))\n",
    "                base_txt = input(\"Nhập base (bỏ trống nếu không dùng): \").strip()\n",
    "                base = float(base_txt) if base_txt else None\n",
    "                for k, v in calc.log_ops(a, base).items():\n",
    "                    print(f\"{k}: {v}\")\n",
    "\n",
    "            elif ch == \"6\":\n",
    "                a = float(input(\"Nhập a (≠0): \"))\n",
    "                b = float(input(\"Nhập b: \"))\n",
    "                print(\"Nghiệm x =\", calc.solve_linear(a, b))\n",
    "\n",
    "            elif ch == \"7\":\n",
    "                a = float(input(\"Nhập a (≠0): \"))\n",
    "                b = float(input(\"Nhập b: \"))\n",
    "                c = float(input(\"Nhập c: \"))\n",
    "                typ, (x1, x2) = calc.solve_quadratic(a, b, c)\n",
    "                print(typ)\n",
    "                print(\"x1 =\", x1)\n",
    "                print(\"x2 =\", x2)\n",
    "\n",
    "            elif ch == \"8\":\n",
    "                hist.print()\n",
    "\n",
    "            elif ch == \"9\":\n",
    "                print(\"Thời gian hiện tại:\", calc.current_time())\n",
    "\n",
    "            elif ch == \"0\":\n",
    "                print(\"Tạm biệt!\")\n",
    "                break\n",
    "            else:\n",
    "                print(\"Lựa chọn không hợp lệ, nhập 0–9.\")\n",
    "\n",
    "        except Exception as e:\n",
    "            print(\"Lỗi:\", e)\n",
    "\n",
    "\n",
    "menu_cli()"
   ]
  }
 ],
 "metadata": {
  "kernelspec": {
   "display_name": "Python 3",
   "language": "python",
   "name": "python3"
  },
  "language_info": {
   "codemirror_mode": {
    "name": "ipython",
    "version": 3
   },
   "file_extension": ".py",
   "mimetype": "text/x-python",
   "name": "python",
   "nbconvert_exporter": "python",
   "pygments_lexer": "ipython3",
   "version": "3.13.7"
  }
 },
 "nbformat": 4,
 "nbformat_minor": 5
}

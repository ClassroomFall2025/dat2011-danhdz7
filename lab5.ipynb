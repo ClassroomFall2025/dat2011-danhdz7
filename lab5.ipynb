{
 "cells": [
  {
   "cell_type": "markdown",
   "id": "fdeff819",
   "metadata": {},
   "source": [
    "# Sinh Viên thực hiện Lab 5 ở Đây"
   ]
  },
  {
   "cell_type": "markdown",
   "id": "acc5d7dc",
   "metadata": {},
   "source": [
    "## Lab 5 - Bài 1"
   ]
  },
  {
   "cell_type": "code",
   "execution_count": null,
   "id": "001e0507",
   "metadata": {},
   "outputs": [],
   "source": [
    "# Code lab 5 bài 1 ở đây\n",
    "from sanpham import *\n",
    "sp1 = San_Pham(\"\",\"\",\"\")\n",
    "sp1.nhap_sp()\n",
    "sp1.xuat_tt_sp()\n"
   ]
  },
  {
   "cell_type": "markdown",
   "id": "c0835310",
   "metadata": {},
   "source": [
    "## Lab 5 - Bài 2"
   ]
  },
  {
   "cell_type": "code",
   "execution_count": null,
   "id": "fa9cb39f",
   "metadata": {},
   "outputs": [],
   "source": [
    "# Code lab 5  bài 2 ở đây\n",
    "from sanpham import *\n",
    "sp1 = San_Pham(\"\",\"\",\"\")\n",
    "sp2 = San_Pham(\"\",\"\",\"\")\n",
    "sp1.nhap_sp()\n",
    "sp2.nhap_sp()\n",
    "sp1.xuat_tt_sp()\n",
    "sp2.xuat_tt_sp()"
   ]
  },
  {
   "cell_type": "markdown",
   "id": "0f2483fe",
   "metadata": {},
   "source": [
    "## Lab 5 - Bài 3"
   ]
  },
  {
   "cell_type": "code",
   "execution_count": 2,
   "id": "7034990b",
   "metadata": {},
   "outputs": [
    {
     "name": "stdout",
     "output_type": "stream",
     "text": [
      "Sản phẩm danh có giá 20000.0 và được giảm giá 10000.0 và thuế nhập khẩu: 2000.0\n",
      "sản phẩm tên:  danh\n"
     ]
    }
   ],
   "source": [
    "# Code lab 5  bài 3 ở đây\n",
    "from sanpham import *\n",
    "sp1 = San_Pham(\"\",\"\",\"\")\n",
    "sp1.nhap_tt_sp()\n",
    "sp1.xuat_tt_sp()\n",
    "print(f\"sản phẩm tên: \",sp1.get_ten())"
   ]
  },
  {
   "cell_type": "markdown",
   "id": "d36ea3d3",
   "metadata": {},
   "source": [
    "## Lab 5 - Bài 4"
   ]
  },
  {
   "cell_type": "code",
   "execution_count": 1,
   "id": "4c707ec1",
   "metadata": {},
   "outputs": [
    {
     "name": "stdout",
     "output_type": "stream",
     "text": [
      "Nhập thông tin sản phẩm 1:\n"
     ]
    },
    {
     "name": "stdout",
     "output_type": "stream",
     "text": [
      "\n",
      "Nhập thông tin sản phẩm 2:\n",
      "\n",
      "--- THÔNG TIN SẢN PHẨM 1 ---\n",
      "Sản phẩm do cu tanh có giá 300000.0 và được giảm giá 10000.0 và thuế nhập khẩu: 30000.0\n",
      "\n",
      "--- THÔNG TIN SẢN PHẨM 2 ---\n",
      "Sản phẩm hưn có giá 30000.0 và được giảm giá 1000.0 và thuế nhập khẩu: 3000.0\n"
     ]
    }
   ],
   "source": [
    "# code lab 5 bài 4 ở đây\n",
    "# code lab 5 bài 4 ở đây\n",
    "\n",
    "# 1. Import lớp\n",
    "from sanpham import San_Pham\n",
    "\n",
    "# 2. Nhập thông tin của 2 sản phẩm\n",
    "print(\"Nhập thông tin sản phẩm 1:\")\n",
    "ten1 = input(\"Tên SP: \")\n",
    "gia1 = float(input(\"Giá SP: \"))\n",
    "giam_gia1 = float(input(\"Giảm giá: \"))\n",
    "\n",
    "print(\"\\nNhập thông tin sản phẩm 2:\")\n",
    "ten2 = input(\"Tên SP: \")\n",
    "gia2 = float(input(\"Giá SP: \"))\n",
    "giam_gia2 = float(input(\"Giảm giá: \"))\n",
    "\n",
    "# 3. Tạo 2 đối tượng sử dụng hàm khởi tạo\n",
    "sp1 = San_Pham(ten1, gia1, giam_gia1)\n",
    "sp2 = San_Pham(ten2, gia2, giam_gia2)\n",
    "\n",
    "# 4. Xuất thông tin của 2 sản phẩm\n",
    "print(\"\\n--- THÔNG TIN SẢN PHẨM 1 ---\")\n",
    "sp1.xuat_tt_sp()\n",
    "\n",
    "print(\"\\n--- THÔNG TIN SẢN PHẨM 2 ---\")\n",
    "sp2.xuat_tt_sp()"
   ]
  },
  {
   "cell_type": "markdown",
   "id": "e2b41d4a",
   "metadata": {},
   "source": [
    "## Lab 5 - Bài 5: bài tập làm thêm"
   ]
  },
  {
   "cell_type": "code",
   "execution_count": null,
   "id": "0e0172f7",
   "metadata": {},
   "outputs": [],
   "source": [
    "# code lab 5  bài làm thêm ở đây "
   ]
  }
 ],
 "metadata": {
  "kernelspec": {
   "display_name": "Python 3",
   "language": "python",
   "name": "python3"
  },
  "language_info": {
   "codemirror_mode": {
    "name": "ipython",
    "version": 3
   },
   "file_extension": ".py",
   "mimetype": "text/x-python",
   "name": "python",
   "nbconvert_exporter": "python",
   "pygments_lexer": "ipython3",
   "version": "3.13.7"
  }
 },
 "nbformat": 4,
 "nbformat_minor": 5
}
